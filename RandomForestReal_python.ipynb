{
 "cells": [
{
"cell_type": "code",
"execution_count": null,
"metadata": {
"collapsed": false
},
"outputs": [],
"source": ["from collections import OrderedDict\n", "import copy\n", "import numpy as np\n", "import pandas as pd\n", "from pandas import DataFrame, Series\n", "import sklearn as sk\n", "import sklearn.model_selection as model_selection\n", "from sklearn.model_selection import ShuffleSplit\n", "import sklearn.ensemble as ensemble\n", "import sklearn.feature_selection as feature_selection\n", "import sklearn.pipeline as pipeline"]
},
{
"cell_type": "code",
"execution_count": null,
"metadata": {
"collapsed": false
},
"outputs": [],
"source": ["import warnings\n", "warnings.filterwarnings(\"ignore\")"]
},
{
"cell_type": "code",
"execution_count": null,
"metadata": {
"collapsed": false
},
"outputs": [],
"source": ["import MaclearnUtilities"]
},
{
"cell_type": "code",
"execution_count": null,
"metadata": {
"collapsed": false
},
"outputs": [],
"source": ["import RestrictedData\n", "xs = RestrictedData.xs\n", "xnorms = RestrictedData.xnorms\n", "annots = RestrictedData.annots\n", "ys = RestrictedData.ys\n", "ynums = RestrictedData.ynums"]
},
{
"cell_type": "code",
"execution_count": null,
"metadata": {
"collapsed": false
},
"outputs": [],
"source": ["cvSchedules = {k : ShuffleSplit(n_splits = 5,\n", "                                test_size = 0.2,\n", "                                random_state = 123)\n", "               for k in xnorms}"]
},
{
"cell_type": "code",
"execution_count": null,
"metadata": {
"collapsed": false
},
"outputs": [],
"source": ["def pandaize(f):\n", "    def pandaized(estimator, X, y, **kwargs):\n", "        return f(estimator, np.array(X), y, **kwargs)\n", "    return pandaized"]
},
{
"cell_type": "code",
"execution_count": null,
"metadata": {
"collapsed": false
},
"outputs": [],
"source": ["@pandaize\n", "def cross_val_score_pd(estimator, X, y, **kwargs):\n", "    return model_selection.cross_val_score(estimator, X, y, **kwargs)"]
},
{
"cell_type": "code",
"execution_count": null,
"metadata": {
"collapsed": false
},
"outputs": [],
"source": ["def fitModelWithNFeat(fitter, n, setname, cv=None):\n", "    if cv is None:\n", "        cv = cvSchedules[setname]\n", "    if n > xnorms[setname].shape[1]:\n", "        return None\n", "    fsFitter = pipeline.Pipeline([\n", "        ('featsel', feature_selection.SelectKBest(\n", "                feature_selection.f_regression, k=n)),\n", "        ('classifier', fitter)\n", "    ])\n", "    return np.mean(cross_val_score_pd(estimator = fsFitter,\n", "                                      X = xnorms[setname],\n", "                                      y = ynums[setname],\n", "                                      cv = cv.split(xnorms[setname])))"]
},
{
"cell_type": "code",
"execution_count": null,
"metadata": {
"collapsed": false
},
"outputs": [],
"source": ["from sklearn.ensemble import RandomForestClassifier"]
},
{
"cell_type": "code",
"execution_count": null,
"metadata": {
"collapsed": false
},
"outputs": [],
"source": ["fsRf100Accs = {\n", "    s : fitModelWithNFeat(\n", "        fitter = RandomForestClassifier(n_estimators=100),\n", "        n = 10,\n", "        setname = s\n", "    )\n", "    for s in xnorms\n", "}"]
},
{
"cell_type": "code",
"execution_count": null,
"metadata": {
"collapsed": false
},
"outputs": [],
"source": ["fsRf500Accs = {\n", "    s : fitModelWithNFeat(\n", "        fitter = RandomForestClassifier(n_estimators=500),\n", "        n = 10,\n", "        setname = s\n", "    )\n", "    for s in xnorms\n", "}"]
},
{
"cell_type": "code",
"execution_count": null,
"metadata": {
"collapsed": false
},
"outputs": [],
"source": ["fsRf2500Accs = {\n", "    s : fitModelWithNFeat(\n", "        fitter = RandomForestClassifier(n_estimators=2500),\n", "        n = 10,\n", "        setname = s\n", "    )\n", "    for s in xnorms\n", "}"]
}
 ],
 "metadata": {
  "kernelspec": {
   "display_name": "Python 3",
   "language": "python",
   "name": "python3"
  },
  "language_info": {
   "codemirror_mode": {
    "name": "ipython",
    "version": 3
   },
   "file_extension": ".py",
   "mimetype": "text/x-python",
   "name": "python",
   "nbconvert_exporter": "python",
   "pygments_lexer": "ipython3",
   "version": "3.4.3"
  }
 },
 "nbformat": 4,
 "nbformat_minor": 1
}

