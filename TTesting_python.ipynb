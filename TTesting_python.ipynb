{
 "cells": [
{
"cell_type": "code",
"execution_count": null,
"metadata": {
"collapsed": false
},
"outputs": [],
"source": ["import matplotlib.pyplot as plt\n", "import numpy as np\n", "import pandas as pd\n", "import scipy as sp\n", "import scipy.stats as stats\n", "import sklearn as sk\n", "import sklearn.preprocessing as preprocessing"]
},
{
"cell_type": "code",
"execution_count": null,
"metadata": {
"collapsed": false
},
"outputs": [],
"source": ["plt.ion()\n", "plt.style.use('fivethirtyeight')"]
},
{
"cell_type": "code",
"execution_count": null,
"metadata": {
"collapsed": false
},
"outputs": [],
"source": ["import MaclearnUtilities\n", "from MaclearnUtilities import bhfdr, colttests, gramSchmidtSelect"]
},
{
"cell_type": "code",
"execution_count": null,
"metadata": {
"collapsed": false
},
"outputs": [],
"source": ["import RestrictedData\n", "xs = RestrictedData.xs\n", "xnorms = RestrictedData.xnorms\n", "annots = RestrictedData.annots\n", "ys = RestrictedData.ys\n", "ynums = RestrictedData.ynums"]
},
{
"cell_type": "code",
"execution_count": null,
"metadata": {
"collapsed": false
},
"outputs": [],
"source": ["## -----------------------------------------------------------------\n", "## ttest example (using equal variance t test)\n", "## -----------------------------------------------------------------\n", "shengene = xnorms['shen']['NM_008161']\n", "shengene_nervous = shengene[ys['shen']]\n", "shengene_other = shengene[~ys['shen']]\n", "tout = stats.ttest_ind(shengene_nervous.values,\n", "                       shengene_other.values,\n", "                       equal_var = True)"]
},
{
"cell_type": "code",
"execution_count": null,
"metadata": {
"collapsed": false
},
"outputs": [],
"source": ["stats.pearsonr(shengene, ynums['shen'])"]
},
{
"cell_type": "code",
"execution_count": null,
"metadata": {
"collapsed": false
},
"outputs": [],
"source": ["## -----------------------------------------------------------------\n", "## t tests for all genes in shen set\n", "## -----------------------------------------------------------------\n", "tShenAll = colttests(xnorms['shen'], ynums['shen'])\n", "tShenAll['q'] = bhfdr(tShenAll.p)\n", "## let's try something else...\n", "xscShen = preprocessing.scale(xnorms['shen'])\n", "xscShen = pd.DataFrame(xscShen,\n", "                      index = xnorms['shen'].index,\n", "                      columns = xnorms['shen'].columns)\n", "xscShen.mean(axis=0)\n", "xscShen.std(axis=0)"]
},
{
"cell_type": "code",
"execution_count": null,
"metadata": {
"collapsed": false
},
"outputs": [],
"source": ["yscShen = preprocessing.scale(ynums['shen'].astype('float'))\n", "tShenAll['pearson'] = np.dot(yscShen, xscShen) / len(yscShen)\n", "## sort by p\n", "tShenAll.sort_values('p', inplace=True)"]
},
{
"cell_type": "code",
"execution_count": null,
"metadata": {
"collapsed": false
},
"outputs": [],
"source": ["## -----------------------------------------------------------------\n", "## t tests for all genes in each set\n", "## -----------------------------------------------------------------\n", "def tTestPlus(x, y):\n", "    out = colttests(x, y)\n", "    out['q'] = bhfdr(out['p'])\n", "    out['pearson'] = np.dot(\n", "        preprocessing.scale(y.astype('float')),\n", "        preprocessing.scale(x)\n", "    ) / len(y)\n", "    out.sort_values('p', inplace=True)\n", "    return out"]
},
{
"cell_type": "code",
"execution_count": null,
"metadata": {
"collapsed": false
},
"outputs": [],
"source": ["tTestResults = {k : tTestPlus(xnorms[k], ynums[k]) for k in xnorms}"]
},
{
"cell_type": "code",
"execution_count": null,
"metadata": {
"collapsed": false
},
"outputs": [],
"source": ["## -----------------------------------------------------------------\n", "## generate fancy p vs pearson plot\n", "## -----------------------------------------------------------------\n", "plt.clf()\n", "ax = plt.subplot(111)\n", "colors = {\n", "    \"montastier\" : \"black\",\n", "    \"patel\" : \"darkgray\",\n", "    \"hess\" : \"red\",\n", "    \"shen\" : \"darkred\"\n", "}\n", "for s in tTestResults:\n", "    plotdata = pd.DataFrame({'gene' : tTestResults[s].index,\n", "                             'set' : s + \" (\" + str(xnorms[s].shape[0]) + \")\",\n", "                             'p' : tTestResults[s].p,\n", "                             'pearson' : tTestResults[s].pearson})\n", "    plotdata.sort_values(\"pearson\", inplace=True)\n", "    plotdata.plot(x = \"pearson\",\n", "                  y = \"p\",\n", "                  color = colors[s],\n", "                  logy = True,\n", "                  label = s + \" (\" + str(xnorms[s].shape[0]) + \")\",\n", "                  ax = ax)"]
},
{
"cell_type": "code",
"execution_count": null,
"metadata": {
"collapsed": false
},
"outputs": [],
"source": ["compResults = gramSchmidtSelect(x = xnorms['patel'],\n", "                                y = ynums['patel'],\n", "                                g = 'NAMPT')\n", "compResults = compResults.loc[\n", "        compResults.abs().sort_values(ascending=False).index]"]
}
 ],
 "metadata": {
  "kernelspec": {
   "display_name": "Python 3",
   "language": "python",
   "name": "python3"
  },
  "language_info": {
   "codemirror_mode": {
    "name": "ipython",
    "version": 3
   },
   "file_extension": ".py",
   "mimetype": "text/x-python",
   "name": "python",
   "nbconvert_exporter": "python",
   "pygments_lexer": "ipython3",
   "version": "3.4.3"
  }
 },
 "nbformat": 4,
 "nbformat_minor": 1
}

