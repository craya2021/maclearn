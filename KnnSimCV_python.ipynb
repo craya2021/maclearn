{
 "cells": [
{
"cell_type": "code",
"execution_count": null,
"metadata": {
"collapsed": false
},
"outputs": [],
"source": ["from collections import OrderedDict\n", "import itertools\n", "import numpy as np\n", "import pandas\n", "from pandas import DataFrame\n", "from pandas import Series\n", "import plotnine as gg\n", "import sklearn\n", "from sklearn.neighbors import KNeighborsClassifier\n", "import sklearn.model_selection\n", "from sklearn.model_selection import cross_val_score"]
},
{
"cell_type": "code",
"execution_count": null,
"metadata": {
"collapsed": false
},
"outputs": [],
"source": ["import SimData"]
},
{
"cell_type": "code",
"execution_count": null,
"metadata": {
"collapsed": false
},
"outputs": [],
"source": ["x2_train = SimData.simulate2Group(n = 100,\n", "                                  p = 2,\n", "                                  effect = [1.25] * 2)\n", "knnClass = KNeighborsClassifier(n_neighbors=3)\n", "cvAccs = cross_val_score(estimator = knnClass,\n", "                         X = np.array(x2_train['x']),\n", "                         y = np.array(x2_train['y']),\n", "                         cv = 5)\n", "cvAccEst = np.mean(cvAccs)\n", "knnClass.fit(np.array(x2_train['x']), np.array(x2_train['y']))"]
},
{
"cell_type": "code",
"execution_count": null,
"metadata": {
"collapsed": false
},
"outputs": [],
"source": ["x2_test = SimData.simulate2Group(n = 100,\n", "                                 p = 2,\n", "                                 effect = [1.25] * 2)\n", "knnTest = Series(knnClass.predict(x2_test['x']),\n", "                 index = x2_test['y'].index)\n", "testAccEst = (np.sum(np.diag(pandas.crosstab(knnTest, x2_test['y']))) /\n", "              (1.0 * np.sum(np.sum(pandas.crosstab(knnTest, x2_test['y'])))))"]
},
{
"cell_type": "code",
"execution_count": null,
"metadata": {
"collapsed": false
},
"outputs": [],
"source": ["def expandGrid(od):\n", "    cartProd = list(itertools.product(*od.values()))\n", "    return DataFrame(cartProd, columns=od.keys())"]
},
{
"cell_type": "code",
"execution_count": null,
"metadata": {
"collapsed": false
},
"outputs": [],
"source": ["parVals = OrderedDict()\n", "parVals['n'] = [100]\n", "parVals['p'] = [2, 5, 10, 25, 100, 500]\n", "parVals['k'] = [3, 5, 10, 25]\n", "parGrid = expandGrid(parVals)\n", "parGrid['effect'] = 2.5\n", "parGrid['effect'] = parGrid['effect'] / np.sqrt(parGrid['p'])"]
},
{
"cell_type": "code",
"execution_count": null,
"metadata": {
"collapsed": false
},
"outputs": [],
"source": ["def knnSimulate(param, nFold=5):\n", "    trainSet = SimData.simulate2Group(\n", "        n = int(param['n']),\n", "        p = int(param['p']),\n", "        effect = [param['effect']] * int(param['p'])\n", "    )\n", "    knnClass = KNeighborsClassifier(n_neighbors=int(param['k']))\n", "    cvAccs = cross_val_score(estimator = knnClass,\n", "                             X = np.array(trainSet['x']),\n", "                             y = np.array(trainSet['y']),\n", "                             cv = nFold)\n", "    knnClass.fit(np.array(trainSet['x']), np.array(trainSet['y']))\n", "    testSet = SimData.simulate2Group(\n", "        n = int(param['n']),\n", "        p = int(param['p']),\n", "        effect = [param['effect']] * int(param['p'])\n", "    )\n", "    out = OrderedDict()\n", "    out['p'] = param['p']\n", "    out['k'] = param['k']\n", "    out['train'] = trainSet\n", "    out['test'] = testSet\n", "    out['testPreds'] = knnClass.predict(testSet['x'])\n", "    out['testProbs'] = knnClass.predict_proba(testSet['x'])\n", "    out['cvAccuracy'] = np.mean(cvAccs)\n", "    out['testTable'] = pandas.crosstab(\n", "        Series(out['testPreds'], index=testSet['y'].index),\n", "        testSet['y']\n", "    )\n", "    out['testAccuracy'] = (np.sum(np.diag(out['testTable'])) /\n", "                           (1.0 * np.sum(np.sum(out['testTable']))))\n", "    return out"]
},
{
"cell_type": "code",
"execution_count": null,
"metadata": {
"collapsed": false
},
"outputs": [],
"source": ["repeatedKnnResults = []\n", "for r in range(5):\n", "    repeatedKnnResults.extend(knnSimulate(parGrid.iloc[i])\n", "                              for i in range(parGrid.shape[0]))"]
},
{
"cell_type": "code",
"execution_count": null,
"metadata": {
"collapsed": false
},
"outputs": [],
"source": ["knnResultsSimplified = DataFrame([(x['p'],\n", "                                   x['k'],\n", "                                   x['cvAccuracy'],\n", "                                   x['testAccuracy'])\n", "                                  for x in repeatedKnnResults],\n", "                                 columns = ['p',\n", "                                            'k',\n", "                                            'cvAccuracy',\n", "                                            'testAccuracy'])"]
},
{
"cell_type": "code",
"execution_count": null,
"metadata": {
"collapsed": false
},
"outputs": [],
"source": ["ggdata = pandas.concat(\n", "    [DataFrame({'p' : knnResultsSimplified.p,\n", "                'k' : knnResultsSimplified.k.apply(int),\n", "                'type' : 'cv',\n", "                'Accuracy' : knnResultsSimplified.cvAccuracy}),\n", "     DataFrame({'p' : knnResultsSimplified.p,\n", "                'k' : knnResultsSimplified.k.apply(int),\n", "                'type' : 'test',\n", "                'Accuracy' : knnResultsSimplified.testAccuracy})],\n", "    axis = 0\n", ")"]
},
{
"cell_type": "code",
"execution_count": null,
"metadata": {
"collapsed": false
},
"outputs": [],
"source": ["ggo = gg.ggplot(ggdata, gg.aes(x='p', y='Accuracy',\n", "                               color='type', group='type', linetype='type'))\n", "ggo += gg.scale_x_log10()\n", "ggo += gg.geom_point(alpha=0.6)\n", "ggo += gg.stat_smooth()\n", "ggo += gg.facet_wrap('~ k')\n", "ggo += gg.theme_bw()\n", "print(ggo)"]
}
 ],
 "metadata": {
  "kernelspec": {
   "display_name": "Python 3",
   "language": "python",
   "name": "python3"
  },
  "language_info": {
   "codemirror_mode": {
    "name": "ipython",
    "version": 3
   },
   "file_extension": ".py",
   "mimetype": "text/x-python",
   "name": "python",
   "nbconvert_exporter": "python",
   "pygments_lexer": "ipython3",
   "version": "3.4.3"
  }
 },
 "nbformat": 4,
 "nbformat_minor": 1
}

