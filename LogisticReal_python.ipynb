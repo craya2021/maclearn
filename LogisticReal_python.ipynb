{
 "cells": [
{
"cell_type": "code",
"execution_count": null,
"metadata": {
"collapsed": false
},
"outputs": [],
"source": ["from collections import OrderedDict\n", "import copy\n", "import matplotlib.pyplot as plt\n", "import numpy as np\n", "import pandas as pd\n", "from pandas import DataFrame, Series\n", "import plotnine as gg\n", "import sklearn as sk\n", "import sklearn.model_selection as model_selection\n", "from sklearn.model_selection import ShuffleSplit\n", "import sklearn.feature_selection as feature_selection\n", "import sklearn.linear_model as linear_model\n", "import sklearn.pipeline as pipeline"]
},
{
"cell_type": "code",
"execution_count": null,
"metadata": {
"collapsed": false
},
"outputs": [],
"source": ["import warnings\n", "warnings.filterwarnings(\"ignore\")"]
},
{
"cell_type": "code",
"execution_count": null,
"metadata": {
"collapsed": false
},
"outputs": [],
"source": ["plt.ion()"]
},
{
"cell_type": "code",
"execution_count": null,
"metadata": {
"collapsed": false
},
"outputs": [],
"source": ["import MaclearnUtilities\n", "from MaclearnUtilities import bhfdr, colcor"]
},
{
"cell_type": "code",
"execution_count": null,
"metadata": {
"collapsed": false
},
"outputs": [],
"source": ["import RestrictedData\n", "xs = RestrictedData.xs\n", "xnorms = RestrictedData.xnorms\n", "annots = RestrictedData.annots\n", "ys = RestrictedData.ys\n", "ynums = RestrictedData.ynums"]
},
{
"cell_type": "code",
"execution_count": null,
"metadata": {
"collapsed": false
},
"outputs": [],
"source": ["cvSchedules = {k : ShuffleSplit(n_splits = 5,\n", "                                test_size = 0.2,\n", "                                random_state = 123)\n", "               for k in xnorms}"]
},
{
"cell_type": "code",
"execution_count": null,
"metadata": {
"collapsed": false
},
"outputs": [],
"source": ["def pandaize(f):\n", "    def pandaized(estimator, X, y, **kwargs):\n", "        return f(estimator, np.array(X), y, **kwargs)\n", "    return pandaized"]
},
{
"cell_type": "code",
"execution_count": null,
"metadata": {
"collapsed": false
},
"outputs": [],
"source": ["@pandaize\n", "def cross_val_score_pd(estimator, X, y, **kwargs):\n", "    return model_selection.cross_val_score(\n", "            estimator, X, y, **kwargs)"]
},
{
"cell_type": "code",
"execution_count": null,
"metadata": {
"collapsed": false
},
"outputs": [],
"source": ["def fitModelWithNFeat(fitter, n, setname, cv=None):\n", "    if cv is None:\n", "        cv = cvSchedules[setname]\n", "    if n > xnorms[setname].shape[1]:\n", "        return None\n", "    fsFitter = pipeline.Pipeline([\n", "        ('featsel', feature_selection.SelectKBest(\n", "                feature_selection.f_regression, k=n)),\n", "        ('classifier', fitter)\n", "    ])\n", "    return np.mean(cross_val_score_pd(estimator = fsFitter,\n", "                                      X = xnorms[setname],\n", "                                      y = ynums[setname],\n", "                                      cv = cv.split(xnorms[setname])))"]
},
{
"cell_type": "code",
"execution_count": null,
"metadata": {
"collapsed": false
},
"outputs": [],
"source": ["def accPlot(accsByNFeats):\n", "    plotdata = []\n", "    for s in accsByNFeats:\n", "        plotdata.append(pd.concat([DataFrame({\"p\" : p,\n", "                                              \"acc\" : accsByNFeats[s][p],\n", "                                              \"set\" : s},\n", "                                             index = [str(p)])\n", "                                   for p in accsByNFeats[s]],\n", "                                  axis = 0))\n", "    ggd = pd.concat(plotdata)\n", "    ggd['acc'] = ggd['acc'].astype(float)\n", "    ggo = gg.ggplot(ggd, gg.aes(x='p', y='acc', color='set'))\n", "    ggo += gg.geom_line(alpha=0.5)\n", "    ggo += gg.geom_point()\n", "    ggo += gg.theme_bw()\n", "    ggo += gg.scale_x_log10(breaks=[10, 100, 1000, 10000])\n", "    ggo += gg.scale_color_manual(values=['darkgray', 'black',\n", "                                         'red', 'dodgerblue'])\n", "    ggo += gg.ylab('Accuracy (5-fold CV)')\n", "    print(ggo)"]
},
{
"cell_type": "code",
"execution_count": null,
"metadata": {
"collapsed": false
},
"outputs": [],
"source": ["nFeatures = [2, 5, 10, 20, 50, 100, 200, 500,\n", "             1000, 2000, 5000, 10000]"]
},
{
"cell_type": "code",
"execution_count": null,
"metadata": {
"collapsed": false
},
"outputs": [],
"source": ["## -----------------------------------------------------------------\n", "## no (err...very little) regularization\n", "## -----------------------------------------------------------------\n", "def fitLogisticWithNFeat(**kwargs):\n", "    fitter = linear_model.LogisticRegression(penalty=\"l2\", C=1e10)\n", "    return fitModelWithNFeat(fitter=fitter, **kwargs)"]
},
{
"cell_type": "code",
"execution_count": null,
"metadata": {
"collapsed": false
},
"outputs": [],
"source": ["nFeatNoReg = [2, 5, 10, 20, 50, 100, 200]\n", "accsByNFeats = OrderedDict([(s,\n", "                             OrderedDict([(\n", "                                 n,\n", "                                 fitLogisticWithNFeat(n=n, setname=s))\n", "                                          for n in nFeatNoReg]))\n", "                            for s in xnorms])\n", "for s in accsByNFeats:\n", "    for n in accsByNFeats[s]:\n", "        if n > xnorms[s].shape[0]:\n", "            accsByNFeats[s][n] = None"]
},
{
"cell_type": "code",
"execution_count": null,
"metadata": {
"collapsed": false
},
"outputs": [],
"source": ["plt.close()\n", "accPlot(accsByNFeats)"]
},
{
"cell_type": "code",
"execution_count": null,
"metadata": {
"collapsed": false
},
"outputs": [],
"source": ["## -----------------------------------------------------------------\n", "## L2 regularization\n", "## -----------------------------------------------------------------\n", "def fitL2LogisticWithNFeat(**kwargs):\n", "    fitter = linear_model.LogisticRegression(penalty=\"l2\", C=1)\n", "    return fitModelWithNFeat(fitter=fitter, **kwargs)"]
},
{
"cell_type": "code",
"execution_count": null,
"metadata": {
"collapsed": false
},
"outputs": [],
"source": ["accsByNFeatsL2 = OrderedDict([(s,\n", "                               OrderedDict([(\n", "                                   n,\n", "                                   fitL2LogisticWithNFeat(n=n, setname=s))\n", "                                            for n in nFeatures]))\n", "                              for s in xnorms])"]
},
{
"cell_type": "code",
"execution_count": null,
"metadata": {
"collapsed": false
},
"outputs": [],
"source": ["plt.close()\n", "accPlot(accsByNFeatsL2)"]
},
{
"cell_type": "code",
"execution_count": null,
"metadata": {
"collapsed": false
},
"outputs": [],
"source": ["## -----------------------------------------------------------------\n", "## L1 regularization\n", "## -----------------------------------------------------------------\n", "def fitL1LogisticWithNFeat(**kwargs):\n", "    fitter = linear_model.LogisticRegression(penalty=\"l1\", C=1)\n", "    return fitModelWithNFeat(fitter=fitter, **kwargs)"]
},
{
"cell_type": "code",
"execution_count": null,
"metadata": {
"collapsed": false
},
"outputs": [],
"source": ["accsByNFeatsL1 = OrderedDict([(s,\n", "                               OrderedDict([(\n", "                                   n,\n", "                                   fitL1LogisticWithNFeat(n=n, setname=s))\n", "                                            for n in nFeatures]))\n", "                              for s in xnorms])"]
},
{
"cell_type": "code",
"execution_count": null,
"metadata": {
"collapsed": false
},
"outputs": [],
"source": ["plt.close()\n", "accPlot(accsByNFeatsL1)"]
}
 ],
 "metadata": {
  "kernelspec": {
   "display_name": "Python 3",
   "language": "python",
   "name": "python3"
  },
  "language_info": {
   "codemirror_mode": {
    "name": "ipython",
    "version": 3
   },
   "file_extension": ".py",
   "mimetype": "text/x-python",
   "name": "python",
   "nbconvert_exporter": "python",
   "pygments_lexer": "ipython3",
   "version": "3.4.3"
  }
 },
 "nbformat": 4,
 "nbformat_minor": 1
}

