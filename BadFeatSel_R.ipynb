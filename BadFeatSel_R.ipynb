{
 "cells": [
{
"cell_type": "code",
"execution_count": null,
"metadata": {
"collapsed": false
},
"outputs": [],
"source": ["library(caret)\n", "library(class)\n", "library(ggplot2)"]
},
{
"cell_type": "code",
"execution_count": null,
"metadata": {
"collapsed": false
},
"outputs": [],
"source": ["source(\"modelpipe.R\")\n", "source(\"SimData.R\")"]
},
{
"cell_type": "code",
"execution_count": null,
"metadata": {
"collapsed": false
},
"outputs": [],
"source": ["fsKnnFitter = SolderedPipeFitter(\n", "    FastTSelector(nFeat = 10),\n", "    KnnFitter(k = 3)\n", ")"]
},
{
"cell_type": "code",
"execution_count": null,
"metadata": {
"collapsed": false
},
"outputs": [],
"source": ["simData = simulate2Group(n=40, p=1000, effect=rep(0, 1000))\n", "x = simData$x\n", "y = simData$y"]
},
{
"cell_type": "code",
"execution_count": null,
"metadata": {
"collapsed": false
},
"outputs": [],
"source": ["simSelBad = FastTSelector(nFeat=10)(x, y)\n", "xbad = simSelBad$transform(x)\n", "cvbad = train(KnnFitter(k=3), xbad, y,\n", "              trControl=trainControl(method=\"cv\", number=5))\n", "cvbad"]
},
{
"cell_type": "code",
"execution_count": null,
"metadata": {
"collapsed": false
},
"outputs": [],
"source": ["cvgood = train(fsKnnFitter, x, y,\n", "               trControl=trainControl(method=\"cv\", number=5))\n", "cvgood"]
}
 ],
 "metadata": {
  "kernelspec": {
   "display_name": "R",
   "language": "R",
   "name": "ir"
  },
  "language_info": {
   "codemirror_mode": "r",
   "file_extension": ".r",
   "mimetype": "text/x-r-source",
   "name": "R",
   "pygments_lexer": "r",
   "version": "3.2.3"
  }
 },
 "nbformat": 4,
 "nbformat_minor": 1
}

