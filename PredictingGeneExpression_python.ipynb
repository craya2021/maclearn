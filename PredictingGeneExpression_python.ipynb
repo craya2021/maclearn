{
 "cells": [
{
"cell_type": "code",
"execution_count": null,
"metadata": {
"collapsed": false
},
"outputs": [],
"source": ["from collections import OrderedDict\n", "import copy\n", "import matplotlib.pyplot as plt\n", "import numpy as np\n", "import pandas as pd\n", "from pandas import DataFrame, Series\n", "import plotnine as gg\n", "import scipy as sp\n", "import scipy.stats as stats\n", "import sklearn as sk\n", "import sklearn.model_selection as model_selection\n", "from sklearn.model_selection import ShuffleSplit\n", "import sklearn.feature_selection as feature_selection\n", "import sklearn.linear_model as linear_model\n", "import sklearn.pipeline as pipeline"]
},
{
"cell_type": "code",
"execution_count": null,
"metadata": {
"collapsed": false
},
"outputs": [],
"source": ["import MaclearnUtilities\n", "from MaclearnUtilities import bhfdr, colcor"]
},
{
"cell_type": "code",
"execution_count": null,
"metadata": {
"collapsed": false
},
"outputs": [],
"source": ["plt.ion()"]
},
{
"cell_type": "code",
"execution_count": null,
"metadata": {
"collapsed": false
},
"outputs": [],
"source": ["def pandaize(f):\n", "    def pandaized(estimator, X, y, **kwargs):\n", "        return f(estimator, np.array(X), y, **kwargs)\n", "    return pandaized"]
},
{
"cell_type": "code",
"execution_count": null,
"metadata": {
"collapsed": false
},
"outputs": [],
"source": ["@pandaize\n", "def cross_val_score_pd(estimator, X, y, **kwargs):\n", "    return model_selection.cross_val_score(estimator, X, y, **kwargs)"]
},
{
"cell_type": "code",
"execution_count": null,
"metadata": {
"collapsed": false
},
"outputs": [],
"source": ["## -----------------------------------------------------------------\n", "## load Patel data\n", "## -----------------------------------------------------------------\n", "def readTab(file):\n", "    return pd.read_csv(file, sep=\"\\t\", header=0, index_col=0)"]
},
{
"cell_type": "code",
"execution_count": null,
"metadata": {
"collapsed": false
},
"outputs": [],
"source": ["x = readTab(\"rnaseq/GSE57872/GSE57872_DataMatrixMapped.tsv.gz\").transpose()\n", "y = x.BRCA1\n", "x0 = x[ x.columns[x.columns != \"BRCA1\"] ]"]
},
{
"cell_type": "code",
"execution_count": null,
"metadata": {
"collapsed": false
},
"outputs": [],
"source": ["cvSched = ShuffleSplit(n_splits=10, test_size=0.1, random_state=123)"]
},
{
"cell_type": "code",
"execution_count": null,
"metadata": {
"collapsed": false
},
"outputs": [],
"source": ["corPVals = colcor(x0, y)['p']\n", "corQVals = bhfdr(corPVals)\n", "corQVals.sort_values(inplace=False).head()"]
},
{
"cell_type": "code",
"execution_count": null,
"metadata": {
"collapsed": false
},
"outputs": [],
"source": ["plt.close()\n", "ax = plt.subplot(111)\n", "x.plot.scatter(x=\"CDK1\", y=\"BRCA1\", ax=ax)"]
},
{
"cell_type": "code",
"execution_count": null,
"metadata": {
"collapsed": false
},
"outputs": [],
"source": ["## -----------------------------------------------------------------\n", "## unregularized linear regression\n", "## -----------------------------------------------------------------\n", "nFeats = [2, 5, 10, 20, 50, 100, 200, 500, 1000]\n", "brca1Modelers = OrderedDict([\n", "    (n, pipeline.Pipeline([\n", "        ('featsel', feature_selection.SelectKBest(\n", "                feature_selection.f_regression, k=n)),\n", "        ('regressor', linear_model.LinearRegression())\n", "    ]))\n", "    for n in nFeats\n", "])"]
},
{
"cell_type": "code",
"execution_count": null,
"metadata": {
"collapsed": false
},
"outputs": [],
"source": ["brca1Model20 = copy.deepcopy(brca1Modelers[20]).fit(x0, y)\n", "brca1Preds = brca1Model20.predict(x0)\n", "stats.pearsonr(brca1Preds, y)[0]"]
},
{
"cell_type": "code",
"execution_count": null,
"metadata": {
"collapsed": false
},
"outputs": [],
"source": ["brca1Model1000 = copy.deepcopy(brca1Modelers[1000]).fit(x0, y)\n", "brca1Preds = brca1Model1000.predict(x0)\n", "stats.pearsonr(brca1Preds, y)[0]"]
},
{
"cell_type": "code",
"execution_count": null,
"metadata": {
"collapsed": false
},
"outputs": [],
"source": ["cvR2s_unreg = Series(OrderedDict([\n", "    (n, np.mean(cross_val_score_pd(copy.deepcopy(brca1Modelers[n]),\n", "                                   X = x0,\n", "                                   y = y,\n", "                                   cv = cvSched.split(x0))))\n", "    for n in nFeats\n", "]))"]
},
{
"cell_type": "code",
"execution_count": null,
"metadata": {
"collapsed": false
},
"outputs": [],
"source": ["## -----------------------------------------------------------------\n", "## L2-regularized linear regression\n", "## -----------------------------------------------------------------\n", "brca1Modelers2 = OrderedDict([\n", "    (n, pipeline.Pipeline([\n", "        ('featsel', feature_selection.SelectKBest(\n", "                feature_selection.f_regression, k=n)),\n", "        ('regressor', linear_model.Ridge(\n", "                alpha=len(y)*(1.5 + 0.034*n)))\n", "    ]))\n", "    for n in nFeats\n", "])"]
},
{
"cell_type": "code",
"execution_count": null,
"metadata": {
"collapsed": false
},
"outputs": [],
"source": ["cvR2s_L2 = Series(OrderedDict([\n", "    (n, np.mean(cross_val_score_pd(copy.deepcopy(brca1Modelers2[n]),\n", "                                   X = x0,\n", "                                   y = y,\n", "                                   cv = cvSched)))\n", "    for n in nFeats\n", "]))"]
},
{
"cell_type": "code",
"execution_count": null,
"metadata": {
"collapsed": false
},
"outputs": [],
"source": ["## -----------------------------------------------------------------\n", "## L1-regularized linear regression\n", "## -----------------------------------------------------------------\n", "brca1Modelers1 = OrderedDict([\n", "    (n, pipeline.Pipeline([\n", "        ('featsel', feature_selection.SelectKBest(\n", "                feature_selection.f_regression, k=n)),\n", "        ('regressor', linear_model.Lasso(\n", "                alpha=max(0, (0.0235*np.log(n)-0.0157))))\n", "    ]))\n", "    for n in nFeats\n", "])"]
},
{
"cell_type": "code",
"execution_count": null,
"metadata": {
"collapsed": false
},
"outputs": [],
"source": ["cvR2s_L1 = Series(OrderedDict([\n", "    (n, np.mean(cross_val_score_pd(copy.deepcopy(brca1Modelers1[n]),\n", "                                   X = x0,\n", "                                   y = y,\n", "                                   cv = cvSched)))\n", "    for n in nFeats\n", "]))"]
},
{
"cell_type": "code",
"execution_count": null,
"metadata": {
"collapsed": false
},
"outputs": [],
"source": ["## -----------------------------------------------------------------\n", "## plot results\n", "## -----------------------------------------------------------------\n", "plotdata = DataFrame({\n", "    \"Number Potential Features\" : nFeats * 3,\n", "    \"Rsquared\" : pd.concat([cvR2s_unreg, cvR2s_L2, cvR2s_L1]),\n", "    \"Regularization\" : (['-']*len(nFeats) +\n", "                        ['L2/ridge']*len(nFeats) +\n", "                        ['L1/lasso']*len(nFeats))\n", "})\n", "plotdata.index = (plotdata[\"Number Potential Features\"].apply(str) + \"_\" +\n", "                plotdata[\"Regularization\"])\n", "plotdata = plotdata.loc[plotdata.Rsquared > 0]"]
},
{
"cell_type": "code",
"execution_count": null,
"metadata": {
"collapsed": false
},
"outputs": [],
"source": ["plt.close()\n", "ggo = gg.ggplot(plotdata, gg.aes(x = 'Number Potential Features',\n", "                                 y = 'Rsquared',\n", "                                 linetype = 'Regularization'))\n", "ggo += gg.geom_line()\n", "ggo += gg.theme_bw()\n", "ggo += gg.scale_x_log10()\n", "print(ggo)"]
}
 ],
 "metadata": {
  "kernelspec": {
   "display_name": "Python 3",
   "language": "python",
   "name": "python3"
  },
  "language_info": {
   "codemirror_mode": {
    "name": "ipython",
    "version": 3
   },
   "file_extension": ".py",
   "mimetype": "text/x-python",
   "name": "python",
   "nbconvert_exporter": "python",
   "pygments_lexer": "ipython3",
   "version": "3.4.3"
  }
 },
 "nbformat": 4,
 "nbformat_minor": 1
}

