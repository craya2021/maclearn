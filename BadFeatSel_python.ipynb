{
 "cells": [
{
"cell_type": "code",
"execution_count": null,
"metadata": {
"collapsed": false
},
"outputs": [],
"source": ["from collections import OrderedDict\n", "import numpy as np\n", "import pandas as pd\n", "from pandas import DataFrame\n", "from pandas import Series\n", "import sklearn as sk\n", "import sklearn.model_selection as model_selection\n", "from sklearn.model_selection import ShuffleSplit\n", "import sklearn.feature_selection as feature_selection\n", "import sklearn.neighbors as neighbors\n", "import sklearn.pipeline as pipeline"]
},
{
"cell_type": "code",
"execution_count": null,
"metadata": {
"collapsed": false
},
"outputs": [],
"source": ["import SimData"]
},
{
"cell_type": "code",
"execution_count": null,
"metadata": {
"collapsed": false
},
"outputs": [],
"source": ["def pandaize(f):\n", "    def pandaized(estimator, X, y, **kwargs):\n", "        return f(estimator, array(X), safeFactorize(y), **kwargs)\n", "    return pandaized"]
},
{
"cell_type": "code",
"execution_count": null,
"metadata": {
"collapsed": false
},
"outputs": [],
"source": ["@pandaize\n", "def cross_val_score_pd(estimator, X, y, **kwargs):\n", "    return model_selection.cross_val_score(\n", "            estimator, X, y, **kwargs)"]
},
{
"cell_type": "code",
"execution_count": null,
"metadata": {
"collapsed": false
},
"outputs": [],
"source": ["fsKnnFitter = pipeline.Pipeline([\n", "    ('featsel', feature_selection.SelectKBest(\n", "            feature_selection.f_regression, k=10)),\n", "    ('classifier', neighbors.KNeighborsClassifier(\n", "            n_neighbors=3))\n", "])"]
},
{
"cell_type": "code",
"execution_count": null,
"metadata": {
"collapsed": false
},
"outputs": [],
"source": ["simData = SimData.simulate2Group(n=40, p=1000, effect=[0]*1000)\n", "x = simData['x']\n", "y = simData['y']"]
},
{
"cell_type": "code",
"execution_count": null,
"metadata": {
"collapsed": false
},
"outputs": [],
"source": ["simSelBad = feature_selection.SelectKBest(\n", "        feature_selection.f_regression, k=10).fit(x, y)\n", "xbad = simSelBad.transform(x)\n", "cvbad = np.mean(model_selection.cross_val_score(\n", "    estimator = neighbors.KNeighborsClassifier(n_neighbors=3),\n", "    X = xbad,\n", "    y = y,\n", "    cv = 5\n", "))\n", "cvbad"]
},
{
"cell_type": "code",
"execution_count": null,
"metadata": {
"collapsed": false
},
"outputs": [],
"source": ["cvgood = np.mean(model_selection.cross_val_score(\n", "    estimator = fsKnnFitter,\n", "    X = x,\n", "    y = y,\n", "    cv = 5\n", "))\n", "cvgood"]
}
 ],
 "metadata": {
  "kernelspec": {
   "display_name": "Python 3",
   "language": "python",
   "name": "python3"
  },
  "language_info": {
   "codemirror_mode": {
    "name": "ipython",
    "version": 3
   },
   "file_extension": ".py",
   "mimetype": "text/x-python",
   "name": "python",
   "nbconvert_exporter": "python",
   "pygments_lexer": "ipython3",
   "version": "3.4.3"
  }
 },
 "nbformat": 4,
 "nbformat_minor": 1
}

