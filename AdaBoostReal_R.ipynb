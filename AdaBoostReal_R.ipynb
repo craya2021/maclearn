{
 "cells": [
{
"cell_type": "code",
"execution_count": null,
"metadata": {
"collapsed": false
},
"outputs": [],
"source": ["library(caret)\n", "library(randomForest)\n", "library(rpart)\n", "library(ggplot2)"]
},
{
"cell_type": "code",
"execution_count": null,
"metadata": {
"collapsed": false
},
"outputs": [],
"source": ["source(\"MaclearnUtilities.R\")\n", "source(\"modelpipe.R\")"]
},
{
"cell_type": "code",
"execution_count": null,
"metadata": {
"collapsed": false
},
"outputs": [],
"source": ["load(\"prepared_datasets.RData\")"]
},
{
"cell_type": "code",
"execution_count": null,
"metadata": {
"collapsed": false
},
"outputs": [],
"source": ["source(\"fitModelWithNFeat.R\")"]
},
{
"cell_type": "code",
"execution_count": null,
"metadata": {
"collapsed": false
},
"outputs": [],
"source": ["fsAda50Models = lapply(xnames, fitModelWithNFeat, fitter=AdaFitter(\n", "    iter = 50,\n", "    bag.frac = 1,\n", "    control = rpart.control(maxdepth=3)\n", "), n=10)\n", "fsAda50Accs = sapply(fsAda50Models, function(u) {u$results$Accuracy})"]
},
{
"cell_type": "code",
"execution_count": null,
"metadata": {
"collapsed": false
},
"outputs": [],
"source": ["fsAda100Models = lapply(xnames, fitModelWithNFeat, fitter=AdaFitter(\n", "    iter = 100,\n", "    bag.frac = 1,\n", "    control = rpart.control(maxdepth=3)\n", "), n=10)\n", "fsAda100Accs = sapply(fsAda100Models, function(u) {u$results$Accuracy})"]
},
{
"cell_type": "code",
"execution_count": null,
"metadata": {
"collapsed": false
},
"outputs": [],
"source": ["fsAda250Models = lapply(xnames, fitModelWithNFeat,\n", "                        fitter=AdaFitter(iter=250, bag.frac=1), n=10)\n", "fsAda250Accs = sapply(fsAda250Models, function(u) {u$results$Accuracy})"]
}
 ],
 "metadata": {
  "kernelspec": {
   "display_name": "R",
   "language": "R",
   "name": "ir"
  },
  "language_info": {
   "codemirror_mode": "r",
   "file_extension": ".r",
   "mimetype": "text/x-r-source",
   "name": "R",
   "pygments_lexer": "r",
   "version": "3.2.3"
  }
 },
 "nbformat": 4,
 "nbformat_minor": 1
}

