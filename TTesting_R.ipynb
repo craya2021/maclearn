{
 "cells": [
{
"cell_type": "code",
"execution_count": null,
"metadata": {
"collapsed": false
},
"outputs": [],
"source": ["library(genefilter)\n", "library(GGally)\n", "library(ggplot2)"]
},
{
"cell_type": "code",
"execution_count": null,
"metadata": {
"collapsed": false
},
"outputs": [],
"source": ["source(\"MaclearnUtilities.R\")"]
},
{
"cell_type": "code",
"execution_count": null,
"metadata": {
"collapsed": false
},
"outputs": [],
"source": ["## source(\"LoadData.R\")\n", "## source(\"NormalizeData.R\")\n", "## source(\"RestrictData.R\")\n", "## source(\"ExtractYs.R\")\n", "load(\"prepared_datasets.RData\")"]
},
{
"cell_type": "code",
"execution_count": null,
"metadata": {
"collapsed": false
},
"outputs": [],
"source": ["ynums = lapply(ys, function(y) {\n", "    ynames = names(y)\n", "    y = as.numeric(y) - 1\n", "    names(y) = ynames\n", "    return(y)\n", "})"]
},
{
"cell_type": "code",
"execution_count": null,
"metadata": {
"collapsed": false
},
"outputs": [],
"source": ["## -----------------------------------------------------------------\n", "## t.test example (using equal variance t test)\n", "## -----------------------------------------------------------------\n", "shengene = xnorms$shen[ , \"NM_008161\"]\n", "shengene_nervous = shengene[ys$shen == \"TRUE\"]\n", "shengene_other = shengene[ys$shen == \"FALSE\"]\n", "t.test(shengene_nervous, shengene_other, var.equal=TRUE)"]
},
{
"cell_type": "code",
"execution_count": null,
"metadata": {
"collapsed": false
},
"outputs": [],
"source": ["cor.test(shengene, ynums$shen, method=\"pearson\")"]
},
{
"cell_type": "code",
"execution_count": null,
"metadata": {
"collapsed": false
},
"outputs": [],
"source": ["## -----------------------------------------------------------------\n", "## t tests for all genes in shen set\n", "## -----------------------------------------------------------------\n", "tShenAll = colttests(as.matrix(xnorms$shen), ys$shen)\n", "tShenAll$q.value = p.adjust(tShenAll$p.value, method=\"fdr\")\n", "## let's try something else...\n", "xscShen = scale(xnorms$shen, center=TRUE, scale=TRUE)\n", "summary(colMeans(xscShen))\n", "summary(colSds(xscShen))\n", "yscShen = scale(ynums$shen)\n", "tShenAll$pearson = as.numeric( (t(yscShen) %*% xscShen) / (length(yscShen)-1) )\n", "## sort by p.value\n", "tShenAll = tShenAll[order(tShenAll$p.value), ]"]
},
{
"cell_type": "code",
"execution_count": null,
"metadata": {
"collapsed": false
},
"outputs": [],
"source": ["plot(tShenAll$pearson, tShenAll$p.value, log='y', pch=16, cex=0.5)"]
},
{
"cell_type": "code",
"execution_count": null,
"metadata": {
"collapsed": false
},
"outputs": [],
"source": ["## -----------------------------------------------------------------\n", "## t tests for all genes in each set\n", "## -----------------------------------------------------------------\n", "tTestResults = mapply(\n", "    FUN = function(x, y) {\n", "        out = colttests(as.matrix(x), y)\n", "        out$q.value = p.adjust(out$p.value, method=\"fdr\")\n", "        out$pearson = as.numeric(\n", "            (t(scale(as.numeric(y))) %*% as.matrix(scale(x))) /\n", "            (length(y)-1)\n", "        )\n", "        out = out[order(out$p.value), ]\n", "        return(out)\n", "    },\n", "    xnorms,\n", "    ys,\n", "    SIMPLIFY = FALSE\n", ")"]
},
{
"cell_type": "code",
"execution_count": null,
"metadata": {
"collapsed": false
},
"outputs": [],
"source": ["## -----------------------------------------------------------------\n", "## let's look at top genes in each set\n", "## -----------------------------------------------------------------\n", "lapply(tTestResults, head)"]
},
{
"cell_type": "code",
"execution_count": null,
"metadata": {
"collapsed": false
},
"outputs": [],
"source": ["boxstrip(\n", "    xnorms$shen[ rownames(tTestResults$shen)[1:9] ],\n", "    ys$shen,\n", "    colscale = c(\"black\", \"red\")\n", ")"]
},
{
"cell_type": "code",
"execution_count": null,
"metadata": {
"collapsed": false
},
"outputs": [],
"source": ["boxstrip(\n", "    xnorms$patel[ rownames(tTestResults$patel)[1:9] ],\n", "    ys$patel,\n", "    colscale = c(\"black\", \"red\")\n", ")"]
},
{
"cell_type": "code",
"execution_count": null,
"metadata": {
"collapsed": false
},
"outputs": [],
"source": ["boxstrip(\n", "    xnorms$montastier[ rownames(tTestResults$montastier)[1:9] ],\n", "    ys$montastier,\n", "    colscale = c(\"black\", \"red\")\n", ")"]
},
{
"cell_type": "code",
"execution_count": null,
"metadata": {
"collapsed": false
},
"outputs": [],
"source": ["boxstrip(\n", "    xnorms$hess[ rownames(tTestResults$hess)[1:9] ],\n", "    ys$hess,\n", "    colscale = c(\"black\", \"red\")\n", ")"]
},
{
"cell_type": "code",
"execution_count": null,
"metadata": {
"collapsed": false
},
"outputs": [],
"source": ["## -----------------------------------------------------------------\n", "## generate fancy p.value vs pearson correlation plot\n", "## -----------------------------------------------------------------\n", "ggdata = do.call(\n", "    rbind,\n", "    args = lapply(X=names(tTestResults), FUN=function(setname) {\n", "        tres = tTestResults[[setname]]\n", "        data.frame(\n", "            gene = rownames(tres),\n", "            set = paste0(setname, \" (\", nrow(xnorms[[setname]]), \")\"),\n", "            tres\n", "        )\n", "    })\n", ")\n", "ggdata$`|t|` = abs(ggdata$statistic)\n", "ggdata$set = factor(as.character(ggdata$set),\n", "                    levels=levels(ggdata$set)[order(sapply(xnorms, nrow))])"]
},
{
"cell_type": "code",
"execution_count": null,
"metadata": {
"collapsed": false
},
"outputs": [],
"source": ["ggobj = ggplot(data=ggdata,\n", "        mapping=aes(x=pearson, y=`|t|`, color=set))\n", "ggobj = ggobj + ylim(c(0, 10))\n", "ggobj = ggobj + geom_line()\n", "ggobj = ggobj + scale_color_manual(\n", "        values=c(\"darkred\", \"red\", \"darkgray\", \"black\"))\n", "ggobj = ggobj + theme_bw()\n", "## pdf(\"TStatVsPearson.pdf\", h=5, w=5*1.45)\n", "print(ggobj)\n", "## garbage = dev.off()"]
},
{
"cell_type": "code",
"execution_count": null,
"metadata": {
"collapsed": false
},
"outputs": [],
"source": ["## -----------------------------------------------------------------\n", "## generate fancy p.value vs pearson correlation plot-\n", "## -----------------------------------------------------------------\n", "ggobj = ggplot(data=ggdata,\n", "        mapping=aes(x=pearson, y=p.value, color=set))\n", "ggobj = ggobj + scale_y_log10()\n", "ggobj = ggobj + geom_line()\n", "ggobj = ggobj + scale_color_manual(\n", "        values=c(\"darkred\", \"red\", \"darkgray\", \"black\"))\n", "ggobj = ggobj + theme_bw()\n", "## pdf(\"PValVsPearson.pdf\", h=5, w=5*1.45)\n", "print(ggobj)\n", "## garbage = dev.off()"]
},
{
"cell_type": "code",
"execution_count": null,
"metadata": {
"collapsed": false
},
"outputs": [],
"source": ["## -----------------------------------------------------------------\n", "## complementary features\n", "## -----------------------------------------------------------------\n", "compResults = gramSchmidtSelect(x=xnorms$patel, y=ys$patel, g=\"NAMPT\")\n", "compFeats = names(compResults[\n", "        order(abs(compResults), decreasing=TRUE)])[1:1000]\n", "compR2 = sapply(compFeats, function(g) {\n", "    summary(lm(ynums$patel ~ xnorms$patel$NAMPT +\n", "            xnorms$patel[[g]]))$r.squared\n", "})\n", "plot(compR2, type=\"l\")"]
},
{
"cell_type": "code",
"execution_count": null,
"metadata": {
"collapsed": false
},
"outputs": [],
"source": ["## model being optimized is truly linear model -- not\n", "## a good choice for classification!\n", "summary(lm(ynums$patel ~ xnorms$patel$NAMPT + xnorms$patel$SEC61G))\n", "## but features likely to work well for glm classification\n", "## (and other classification methods) as well\n", "summary(glm(ys$patel ~ xnorms$patel$NAMPT + xnorms$patel$SEC61G, family=binomial))"]
}
 ],
 "metadata": {
  "kernelspec": {
   "display_name": "R",
   "language": "R",
   "name": "ir"
  },
  "language_info": {
   "codemirror_mode": "r",
   "file_extension": ".r",
   "mimetype": "text/x-r-source",
   "name": "R",
   "pygments_lexer": "r",
   "version": "3.2.3"
  }
 },
 "nbformat": 4,
 "nbformat_minor": 1
}

