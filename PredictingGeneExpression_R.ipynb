{
 "cells": [
{
"cell_type": "code",
"execution_count": null,
"metadata": {
"collapsed": false
},
"outputs": [],
"source": ["library(caret)\n", "library(GGally)\n", "library(ggplot2)\n", "library(txtplot)"]
},
{
"cell_type": "code",
"execution_count": null,
"metadata": {
"collapsed": false
},
"outputs": [],
"source": ["source(\"modelpipe.R\")\n", "source(\"MaclearnUtilities.R\")"]
},
{
"cell_type": "code",
"execution_count": null,
"metadata": {
"collapsed": false
},
"outputs": [],
"source": ["## -----------------------------------------------------------------\n", "## load Patel data\n", "## -----------------------------------------------------------------\n", "readTab = function(file) {\n", "    read.table(file, sep=\"\\t\",\n", "               header=TRUE, row.names=1, check.names=FALSE)\n", "}"]
},
{
"cell_type": "code",
"execution_count": null,
"metadata": {
"collapsed": false
},
"outputs": [],
"source": ["x = data.frame(\n", "    t(readTab(\"rnaseq/GSE57872/GSE57872_DataMatrixMapped.tsv.gz\")),\n", "    check.names = FALSE\n", ")\n", "y = x$BRCA1\n", "names(y) = rownames(x)\n", "x0 = x[ , colnames(x) != \"BRCA1\"]"]
},
{
"cell_type": "code",
"execution_count": null,
"metadata": {
"collapsed": false
},
"outputs": [],
"source": ["corPVals = apply(x0, 2, function(z) {cor.test(z, y)$p.value})\n", "corQVals = p.adjust(corPVals, method=\"fdr\")\n", "head(sort(corQVals))\n", "summary(lm(y ~ x0$CDK1))"]
},
{
"cell_type": "code",
"execution_count": null,
"metadata": {
"collapsed": false
},
"outputs": [],
"source": ["ggobj = ggplot(data=x, mapping=aes(x=CDK1, y=BRCA1))\n", "ggobj = ggobj + theme_classic()\n", "ggobj = ggobj + geom_point(alpha=0.5)\n", "ggobj = ggobj + stat_smooth(method=\"lm\", se=FALSE)\n", "print(ggobj)"]
},
{
"cell_type": "code",
"execution_count": null,
"metadata": {
"collapsed": false
},
"outputs": [],
"source": ["## -----------------------------------------------------------------\n", "## unregularized linear regression\n", "## -----------------------------------------------------------------\n", "nFeats = c(2, 5, 10, 20, 50, 100, 200, 500, 1000)\n", "names(nFeats) = as.character(nFeats)\n", "brca1Modelers = lapply(X=nFeats, FUN=function(n) {\n", "    solder(\n", "        PearsonSelector(nFeat = n),\n", "        GlmFitter(fam=\"gaussian\", alpha=0, lambda=0)\n", "    )\n", "})"]
},
{
"cell_type": "code",
"execution_count": null,
"metadata": {
"collapsed": false
},
"outputs": [],
"source": ["brca1Model20 = brca1Modelers[[\"20\"]](x0, y)\n", "brca1Preds = predict(brca1Model20, x0)\n", "txtplot(brca1Preds, y)"]
},
{
"cell_type": "code",
"execution_count": null,
"metadata": {
"collapsed": false
},
"outputs": [],
"source": ["brca1Model1000 = brca1Modelers[[\"1000\"]](x0, y)\n", "brca1Preds = predict(brca1Model1000, x0)\n", "txtplot(brca1Preds, y)"]
},
{
"cell_type": "code",
"execution_count": null,
"metadata": {
"collapsed": false
},
"outputs": [],
"source": ["set.seed(123)\n", "brca1CV = lapply(X=brca1Modelers, FUN=function(m) {train(m, x0, y)})"]
},
{
"cell_type": "code",
"execution_count": null,
"metadata": {
"collapsed": false
},
"outputs": [],
"source": ["ggdata = data.frame(\n", "    \"Number Potential Features\" = nFeats,\n", "    Rsquared = sapply(brca1CV, function(m) {m$results$Rsquared}),\n", "    Regularization = \"none\",\n", "    Lambda = 0,\n", "    check.names = FALSE\n", ")\n", "ggobj = ggplot(\n", "    data = ggdata,\n", "    mapping = aes(x=`Number Potential Features`, y=Rsquared)\n", ")\n", "ggobj = ggobj + theme_classic()\n", "ggobj = ggobj + geom_point() + geom_line(alpha=0.5)\n", "ggobj = ggobj + scale_x_log10()\n", "print(ggobj)"]
},
{
"cell_type": "code",
"execution_count": null,
"metadata": {
"collapsed": false
},
"outputs": [],
"source": ["## -----------------------------------------------------------------\n", "## L2-regularized linear regression\n", "## -----------------------------------------------------------------\n", "brca1Modelers2 = lapply(X=nFeats, FUN=function(n) {\n", "    solder(\n", "        PearsonSelector(nFeat = n),\n", "        GlmFitter(fam=\"gaussian\", alpha=0, lambda=NULL)\n", "    )\n", "})"]
},
{
"cell_type": "code",
"execution_count": null,
"metadata": {
"collapsed": false
},
"outputs": [],
"source": ["set.seed(123)\n", "brca1CV2 = lapply(X=brca1Modelers2,\n", "                  FUN=function(m) {train(m, x0, y)})"]
},
{
"cell_type": "code",
"execution_count": null,
"metadata": {
"collapsed": false
},
"outputs": [],
"source": ["lambdaMins2 = sapply(brca1CV2, FUN=function(z) {\n", "    z$finalModel[[2]]$fit$lambda.min\n", "})\n", "summary(lm(lambdaMins2 ~ nFeats))\n", "## approx 1.5 + 0.034 * nFeats"]
},
{
"cell_type": "code",
"execution_count": null,
"metadata": {
"collapsed": false
},
"outputs": [],
"source": ["ggdata = rbind(ggdata, data.frame(\n", "    \"Number Potential Features\" = nFeats,\n", "    Rsquared = sapply(brca1CV2, function(m) {m$results$Rsquared}),\n", "    Regularization = \"L2/ridge\",\n", "    Lambda = lambdaMins2,\n", "    check.names = FALSE\n", "))"]
},
{
"cell_type": "code",
"execution_count": null,
"metadata": {
"collapsed": false
},
"outputs": [],
"source": ["## -----------------------------------------------------------------\n", "## L1-regularized linear regression\n", "## -----------------------------------------------------------------\n", "brca1Modelers1 = lapply(X=nFeats, FUN=function(n) {\n", "    solder(\n", "        PearsonSelector(nFeat = n),\n", "        GlmFitter(fam=\"gaussian\", alpha=1, lambda=NULL)\n", "    )\n", "})"]
},
{
"cell_type": "code",
"execution_count": null,
"metadata": {
"collapsed": false
},
"outputs": [],
"source": ["set.seed(123)\n", "brca1CV1 = lapply(X=brca1Modelers1,\n", "                  FUN=function(m) {train(m, x0, y)})"]
},
{
"cell_type": "code",
"execution_count": null,
"metadata": {
"collapsed": false
},
"outputs": [],
"source": ["lambdaMins1 = sapply(brca1CV1, FUN=function(z) {\n", "    z$finalModel[[2]]$fit$lambda.min\n", "})\n", "summary(lm(lambdaMins1 ~ log(nFeats)))\n", "## approx -0.03 + 0.03 * log(nFeats)"]
},
{
"cell_type": "code",
"execution_count": null,
"metadata": {
"collapsed": false
},
"outputs": [],
"source": ["ggdata = rbind(ggdata, data.frame(\n", "    \"Number Potential Features\" = nFeats,\n", "    Rsquared = sapply(brca1CV1, function(m) {m$results$Rsquared}),\n", "    Regularization = \"L1/Lasso\",\n", "    Lambda = lambdaMins1,\n", "    check.names = FALSE\n", "))"]
},
{
"cell_type": "code",
"execution_count": null,
"metadata": {
"collapsed": false
},
"outputs": [],
"source": ["ggobj = ggplot(\n", "    data = ggdata,\n", "    mapping = aes(x=`Number Potential Features`, y=Rsquared,\n", "                  linetype=Regularization)\n", ")\n", "ggobj = ggobj + theme_classic()\n", "ggobj = ggobj + geom_point() + geom_line(alpha=0.5)\n", "ggobj = ggobj + scale_x_log10()\n", "print(ggobj)"]
}
 ],
 "metadata": {
  "kernelspec": {
   "display_name": "R",
   "language": "R",
   "name": "ir"
  },
  "language_info": {
   "codemirror_mode": "r",
   "file_extension": ".r",
   "mimetype": "text/x-r-source",
   "name": "R",
   "pygments_lexer": "r",
   "version": "3.2.3"
  }
 },
 "nbformat": 4,
 "nbformat_minor": 1
}

