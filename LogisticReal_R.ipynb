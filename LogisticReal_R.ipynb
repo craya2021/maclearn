{
 "cells": [
{
"cell_type": "code",
"execution_count": null,
"metadata": {
"collapsed": false
},
"outputs": [],
"source": ["library(caret)\n", "library(class)\n", "library(ggplot2)"]
},
{
"cell_type": "code",
"execution_count": null,
"metadata": {
"collapsed": false
},
"outputs": [],
"source": ["library(devtools)\n", "load_all(\"~/workspace/modelpipe\")"]
},
{
"cell_type": "code",
"execution_count": null,
"metadata": {
"collapsed": false
},
"outputs": [],
"source": ["## source(\"LoadData.R\")\n", "## source(\"NormalizeData.R\")\n", "## source(\"RestrictData.R\")\n", "## source(\"ExtractYs.R\")\n", "load(\"prepared_datasets.RData\")"]
},
{
"cell_type": "code",
"execution_count": null,
"metadata": {
"collapsed": false
},
"outputs": [],
"source": ["fitModelWithNFeat = function(fitter, n, setname,\n", "        fold=5, seed=123) {\n", "    if (n > ncol(xnorms[[setname]])) {\n", "        return(NA)\n", "    }\n", "    fsFitter = SolderedPipeFitter(\n", "        FastTSelector(nFeat=n),\n", "        fitter\n", "    )\n", "    fit = train(\n", "        fsFitter,\n", "        xnorms[[setname]],\n", "        ys[[setname]],\n", "        trControl = trainControl(\n", "            method = \"cv\",\n", "            number = fold,\n", "            seeds = as.list(rep(seed, times=fold+1))\n", "        )\n", "    )\n", "    return(fit$results$Accuracy)\n", "}"]
},
{
"cell_type": "code",
"execution_count": null,
"metadata": {
"collapsed": false
},
"outputs": [],
"source": ["xnames = names(xnorms)\n", "names(xnames) = xnames"]
},
{
"cell_type": "code",
"execution_count": null,
"metadata": {
"collapsed": false
},
"outputs": [],
"source": ["accPlot = function(accsByNFeats, dataFile, plotFile) {\n", "    ggdata = data.frame(acc=accsByNFeats, row.names=names(accsByNFeats))\n", "    ggdata$set = factor(gsub(\"\\\\..*\", \"\",  names(accsByNFeats)),\n", "                        levels=names(xnorms))\n", "    ggdata$p = as.integer(gsub(\".*\\\\.\", \"\", names(accsByNFeats)))\n", "    write.table(\n", "        ggdata,\n", "        file = dataFile,\n", "        sep = \"\\t\",\n", "        quote = FALSE,\n", "        row.names = FALSE\n", "    )\n", "    ggdata$set = factor(as.character(ggdata$set), levels=names(xnorms))\n", "    ggobj = ggplot(data=ggdata, mapping=aes(x=p, y=acc, color=set))\n", "    ggobj = ggobj + geom_point()\n", "    ggobj = ggobj + geom_line(alpha=0.5)\n", "    ggobj = ggobj + scale_x_log10(breaks=c(10, 100, 1000, 10000))\n", "    ggobj = ggobj + theme_classic()\n", "    ggobj = ggobj + scale_color_manual(\n", "            values=c(\"darkgray\", \"black\", \"red\", \"dodgerblue3\"))\n", "    ggobj = ggobj + ylab(\"Accuracy (5-fold CV)\")\n", "    pdf(plotFile, h=5, w=5*1.325)\n", "    print(ggobj)\n", "    garbage = dev.off()\n", "    invisible(list(data=ggdata, plot=ggobj))\n", "}"]
},
{
"cell_type": "code",
"execution_count": null,
"metadata": {
"collapsed": false
},
"outputs": [],
"source": ["nFeatures = c(2, 5, 10, 20, 50, 100, 200, 500,\n", "        1000, 2000, 5000, 10000)\n", "names(nFeatures) = as.character(nFeatures)"]
},
{
"cell_type": "code",
"execution_count": null,
"metadata": {
"collapsed": false
},
"outputs": [],
"source": ["## -----------------------------------------------------------------\n", "## no (err...very little) regularization\n", "## -----------------------------------------------------------------\n", "fitLogisticWithNFeat = function(...) {\n", "    fitModelWithNFeat(fitter=GlmFitter(alpha=0, lambda=1e-10), ...)\n", "}"]
},
{
"cell_type": "code",
"execution_count": null,
"metadata": {
"collapsed": false
},
"outputs": [],
"source": ["accsByNFeats = lapply(\n", "    X = xnames,\n", "    FUN = function(s) {\n", "        lapply(nFeatures, fitLogisticWithNFeat, setname=s)\n", "    }\n", ")\n", "accsByNFeats = unlist(accsByNFeats)"]
},
{
"cell_type": "code",
"execution_count": null,
"metadata": {
"collapsed": false
},
"outputs": [],
"source": ["logAccResults = accPlot(\n", "    accsByNFeats,\n", "    dataFile = \"LogisticRealAccuracyByNFeat_R.tsv\",\n", "    plotFile = \"LogisticRealAccuracyByNFeat.pdf\"\n", ")"]
},
{
"cell_type": "code",
"execution_count": null,
"metadata": {
"collapsed": false
},
"outputs": [],
"source": ["## -----------------------------------------------------------------\n", "## L2 regularization\n", "## -----------------------------------------------------------------\n", "fitL2LogisticWithNFeat = function(...) {\n", "    fitModelWithNFeat(fitter=GlmFitter(alpha=0, lambda=NULL), ...)\n", "}"]
},
{
"cell_type": "code",
"execution_count": null,
"metadata": {
"collapsed": false
},
"outputs": [],
"source": ["accsByNFeatsL2 = lapply(\n", "    X = xnames,\n", "    FUN = function(s) {\n", "        lapply(nFeatures, fitL2LogisticWithNFeat, setname=s)\n", "    }\n", ")\n", "accsByNFeatsL2 = unlist(accsByNFeatsL2)"]
},
{
"cell_type": "code",
"execution_count": null,
"metadata": {
"collapsed": false
},
"outputs": [],
"source": ["l2AccResults = accPlot(\n", "    accsByNFeatsL2,\n", "    dataFile = \"L2LogisticRealAccuracyByNFeat_R.tsv\",\n", "    plotFile = \"L2LogisticRealAccuracyByNFeat.pdf\"\n", ")"]
},
{
"cell_type": "code",
"execution_count": null,
"metadata": {
"collapsed": false
},
"outputs": [],
"source": ["## -----------------------------------------------------------------\n", "## L1 regularization\n", "## -----------------------------------------------------------------\n", "fitL1LogisticWithNFeat = function(...) {\n", "    fitModelWithNFeat(fitter=GlmFitter(alpha=1, lambda=NULL), ...)\n", "}"]
},
{
"cell_type": "code",
"execution_count": null,
"metadata": {
"collapsed": false
},
"outputs": [],
"source": ["accsByNFeatsL1 = lapply(\n", "    X = xnames,\n", "    FUN = function(s) {\n", "        lapply(nFeatures, fitL1LogisticWithNFeat, setname=s)\n", "    }\n", ")\n", "accsByNFeatsL1 = unlist(accsByNFeatsL1)"]
},
{
"cell_type": "code",
"execution_count": null,
"metadata": {
"collapsed": false
},
"outputs": [],
"source": ["l1AccResults = accPlot(\n", "    accsByNFeatsL1,\n", "    dataFile = \"L1LogisticRealAccuracyByNFeat_R.tsv\",\n", "    plotFile = \"L1LogisticRealAccuracyByNFeat.pdf\"\n", ")"]
},
{
"cell_type": "code",
"execution_count": null,
"metadata": {
"collapsed": false
},
"outputs": [],
"source": ["## should be able to remove below once verified above..."]
},
{
"cell_type": "code",
"execution_count": null,
"metadata": {
"collapsed": false
},
"outputs": [],
"source": ["## ggdata = data.frame(acc=accsByNFeats, row.names=names(accsByNFeats))\n", "## ggdata$set = factor(gsub(\"\\\\..*\", \"\",  names(accsByNFeats)),\n", "##         levels=names(xnorms))\n", "## ggdata$p = as.integer(gsub(\".*\\\\.\", \"\", names(accsByNFeats)))\n", "## write.table(\n", "##     ggdata,\n", "##     file = \"LogisticRealAccuracyByNFeat_R.tsv\",\n", "##     sep = \"\\t\",\n", "##     quote = FALSE,\n", "##     row.names = FALSE\n", "## )"]
},
{
"cell_type": "code",
"execution_count": null,
"metadata": {
"collapsed": false
},
"outputs": [],
"source": ["ggdata = read.table(\n", "    \"LogisticRealAccuracyByNFeat_R.tsv\",\n", "    sep = \"\\t\",\n", "    row.names = NULL,\n", "    header = TRUE\n", ")"]
},
{
"cell_type": "code",
"execution_count": null,
"metadata": {
"collapsed": false
},
"outputs": [],
"source": ["ggdata$set = factor(as.character(ggdata$set), levels=names(xnorms))\n", "ggobj = ggplot(data=ggdata, mapping=aes(x=p, y=acc, color=set))\n", "ggobj = ggobj + geom_point()\n", "ggobj = ggobj + geom_line(alpha=0.5)\n", "ggobj = ggobj + scale_x_log10(breaks=c(10, 100, 1000, 10000))\n", "ggobj = ggobj + theme_classic()\n", "ggobj = ggobj + scale_color_manual(\n", "        values=c(\"darkgray\", \"black\", \"red\", \"dodgerblue3\"))\n", "ggobj = ggobj + ylab(\"Accuracy (5-fold CV)\")\n", "pdf(\"LogisticRealAccuracyByNFeat.pdf\", h=5, w=5*1.325)\n", "print(ggobj)\n", "garbage = dev.off()"]
},
{
"cell_type": "code",
"execution_count": null,
"metadata": {
"collapsed": false
},
"outputs": [],
"source": ["## -----------------------------------------------------------------\n", "allAccResults = rbind(\n", "    data.frame(logAccResults$data, regularization='none'),\n", "    data.frame(l1AccResults$data, regularization='L1'),\n", "    data.frame(l2AccResults$data, regularization='L2')\n", ")"]
},
{
"cell_type": "code",
"execution_count": null,
"metadata": {
"collapsed": false
},
"outputs": [],
"source": ["ggo = ggplot(allAccResults, aes(x=p, y=acc,\n", "                                color=set, linetype=regularization))\n", "ggo = ggo + facet_wrap(~ set, scales='free_y')\n", "ggo = ggo + geom_line()\n", "ggo = ggo + theme_bw()\n", "ggo = ggo + theme(panel.grid.minor=element_blank(),\n", "                  panel.grid.major=element_blank())\n", "ggo = ggo + scale_x_log10()\n", "ggo = ggo + scale_color_manual(values=c(\"darkgray\", \"black\",\n", "                                        \"red\", \"dodgerblue3\"))\n", "pdf('LogisticRealAccuracyByNFeat_WithRegularization.pdf', h=4, w=6)\n", "print(ggo)\n", "garbage = dev.off()"]
}
 ],
 "metadata": {
  "kernelspec": {
   "display_name": "R",
   "language": "R",
   "name": "ir"
  },
  "language_info": {
   "codemirror_mode": "r",
   "file_extension": ".r",
   "mimetype": "text/x-r-source",
   "name": "R",
   "pygments_lexer": "r",
   "version": "3.2.3"
  }
 },
 "nbformat": 4,
 "nbformat_minor": 1
}

