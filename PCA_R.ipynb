{
 "cells": [
{
"cell_type": "code",
"execution_count": null,
"metadata": {
"collapsed": false
},
"outputs": [],
"source": ["source(\"modelpipe.R\")\n", "source(\"MaclearnUtilities.R\")"]
},
{
"cell_type": "code",
"execution_count": null,
"metadata": {
"collapsed": false
},
"outputs": [],
"source": ["## source(\"LoadData.R\")\n", "## source(\"NormalizeData.R\")\n", "## source(\"RestrictData.R\")\n", "## source(\"ExtractYs.R\")\n", "load('prepared_datasets.RData')\n", "load('shenGeneAnnot.RData')"]
},
{
"cell_type": "code",
"execution_count": null,
"metadata": {
"collapsed": false
},
"outputs": [],
"source": ["## pdf(\"ShenPCA.pdf\", h=5, w=5*1.375)\n", "ggpca(xnorms$shen, annots$shen$System, cshow=25,\n", "      rlab=FALSE, clab=TRUE, colscale=c(\n", "          'Variable' = 'gray',\n", "          'circulatory' = 'firebrick',\n", "          'digestive/excretory' = 'goldenrod',\n", "          'lymphatic' = 'lightseagreen',\n", "          'nervous' = 'darkorchid',\n", "          'other' = 'darkslategray',\n", "          'respiratory' = 'dodgerblue'))\n", "## garbage = dev.off()"]
},
{
"cell_type": "code",
"execution_count": null,
"metadata": {
"collapsed": false
},
"outputs": [],
"source": ["## pdf(\"PatelPCA.pdf\", h=5, w=5*1.375)\n", "ggpca(xnorms$patel, ys$patel, cshow=25,\n", "        rlab=FALSE, clab=TRUE)\n", "## garbage = dev.off()"]
},
{
"cell_type": "code",
"execution_count": null,
"metadata": {
"collapsed": false
},
"outputs": [],
"source": ["set.seed(123456789)\n", "xxx = kmeans(t(xnorms$patel), centers=3)\n", "xc = factor(xxx$cluster)\n", "names(xc) = colnames(xnorms$patel)\n", "ggpca(data.frame(t(xnorms$patel)), y=xc, cshow=0, rsize=2, ralpha=0.35)"]
},
{
"cell_type": "code",
"execution_count": null,
"metadata": {
"collapsed": false
},
"outputs": [],
"source": ["xc1 = xnorms$patel[ , xc == 1]\n", "ggpca(xc1, ys$patel, cshow=25, clab=TRUE)"]
},
{
"cell_type": "code",
"execution_count": null,
"metadata": {
"collapsed": false
},
"outputs": [],
"source": ["xc2 = xnorms$patel[ , xc == 2]\n", "ggpca(xc2, ys$patel, cshow=25, clab=TRUE)"]
},
{
"cell_type": "code",
"execution_count": null,
"metadata": {
"collapsed": false
},
"outputs": [],
"source": ["xc3 = xnorms$patel[ , xc == 3]\n", "ggpca(xc3, ys$patel, cshow=25, clab=TRUE)"]
},
{
"cell_type": "code",
"execution_count": null,
"metadata": {
"collapsed": false
},
"outputs": [],
"source": ["## -----------------------------------------------------------------\n", "## pdf(\"ShenPCA_NoGenes.pdf\", h=5, w=5*1.375)\n", "ggpca(xnorms$shen, annots$shen$System, cshow=0,\n", "      rlab=TRUE, clab=FALSE, colscale=c(\n", "          'circulatory' = 'firebrick',\n", "          'digestive/excretory' = 'goldenrod',\n", "          'lymphatic' = 'lightseagreen',\n", "          'nervous' = 'darkorchid',\n", "          'other' = 'darkslategray',\n", "          'respiratory' = 'dodgerblue'))\n", "## garbage = dev.off()"]
},
{
"cell_type": "code",
"execution_count": null,
"metadata": {
"collapsed": false
},
"outputs": [],
"source": ["## ## -----------------------------------------------------------------\n", "## library(ggrepel)"]
},
{
"cell_type": "code",
"execution_count": null,
"metadata": {
"collapsed": false
},
"outputs": [],
"source": ["## xsvd = svdForPca(xnorms$shen, center='col')\n", "## dpc1 = xsvd$d[1]\n", "## gpc1 = xsvd$v[ , 1]\n", "## spc1 = xsvd$u[ , 1]"]
},
{
"cell_type": "code",
"execution_count": null,
"metadata": {
"collapsed": false
},
"outputs": [],
"source": ["## ggd = data.frame(\n", "##     u = spc1,\n", "##     sample = names(spc1),\n", "##     system = annots$shen[names(spc1), 'System'],\n", "##     dummy = ''\n", "## )\n", "## ggo = ggplot(ggd, aes(x=dummy, y=u, color=system, label=sample))\n", "## ggo = ggo + geom_point(alpha=0.5, shape='|', size=10)\n", "## ggo = ggo + geom_hline(yintercept=0, linetype=2)\n", "## ggo = ggo + geom_text_repel(alpha=0.75)\n", "## ggo = ggo + scale_color_manual(\n", "##     values = c('firebrick3', 'goldenrod', 'lightseagreen', 'darkorchid2',\n", "##                'darkslategray', 'dodgerblue'),\n", "##     guide = FALSE\n", "## )\n", "## ggo = ggo + ylim(-1.05*max(abs(ggd$u)), 1.05*max(abs(ggd$u)))\n", "## ggo = ggo + coord_flip()\n", "## ggo = ggo + xlab('')\n", "## ggo = ggo + theme_classic()\n", "## ggo = ggo + theme(axis.ticks.x=element_blank(),\n", "##                      axis.ticks.y=element_blank(),\n", "##                   axis.line.y=element_blank())\n", "## ## pdf('shen2012_u1.pdf', h=2, w=10)\n", "## print(ggo)\n", "## ## garbage = dev.off()"]
},
{
"cell_type": "code",
"execution_count": null,
"metadata": {
"collapsed": false
},
"outputs": [],
"source": ["## ggd = data.frame(\n", "##     v = gpc1,\n", "##     gene = shenGeneAnnot[gsub(':.*', '', names(gpc1)), 'gene'],\n", "##     dummy = ''\n", "## )\n", "## ggd[ggd$v > quantile(ggd$v, 0.0005) &\n", "##     ggd$v < quantile(ggd$v, 0.9995), 'gene'] = ''\n", "## ggd$shade = ifelse(is.na(ggd$gene) | ggd$gene == '', 'low', 'high')\n", "## ggo = ggplot(ggd, aes(x=dummy, y=v, label=gene))\n", "## ggo = ggo + geom_point(aes(alpha=shade, color=shade),\n", "##                        shape='|', size=10)\n", "## ggo = ggo + geom_hline(yintercept=0, linetype=2)\n", "## ggo = ggo + geom_text_repel(alpha=1, color='red')\n", "## ggo = ggo + scale_color_manual(values=c('black', '#444444'), guide=FALSE)\n", "## ggo = ggo + scale_alpha_manual(values=c(0.15, 0.15), guide=FALSE)\n", "## ggo = ggo + ylim(-1.05*max(abs(ggd$v)), 1.05*max(abs(ggd$v)))\n", "## ggo = ggo + coord_flip()\n", "## ggo = ggo + xlab('')\n", "## ggo = ggo + theme_classic()\n", "## ggo = ggo + theme(axis.ticks.x=element_blank(),\n", "##                      axis.ticks.y=element_blank(),\n", "##                   axis.line.y=element_blank())\n", "## ## png('shen2012_v1.png', h=(2/7)*1920, w=(10/7)*1920, res=288)\n", "## print(ggo)\n", "## ## garbage = dev.off()"]
}
 ],
 "metadata": {
  "kernelspec": {
   "display_name": "R",
   "language": "R",
   "name": "ir"
  },
  "language_info": {
   "codemirror_mode": "r",
   "file_extension": ".r",
   "mimetype": "text/x-r-source",
   "name": "R",
   "pygments_lexer": "r",
   "version": "3.2.3"
  }
 },
 "nbformat": 4,
 "nbformat_minor": 1
}

