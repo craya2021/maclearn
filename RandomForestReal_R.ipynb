{
 "cells": [
{
"cell_type": "code",
"execution_count": null,
"metadata": {
"collapsed": false
},
"outputs": [],
"source": ["library(caret)\n", "library(randomForest)\n", "library(ggplot2)"]
},
{
"cell_type": "code",
"execution_count": null,
"metadata": {
"collapsed": false
},
"outputs": [],
"source": ["source(\"MaclearnUtilities.R\")\n", "source(\"modelpipe.R\")"]
},
{
"cell_type": "code",
"execution_count": null,
"metadata": {
"collapsed": false
},
"outputs": [],
"source": ["load(\"prepared_datasets.RData\")"]
},
{
"cell_type": "code",
"execution_count": null,
"metadata": {
"collapsed": false
},
"outputs": [],
"source": ["source(\"fitModelWithNFeat.R\")"]
},
{
"cell_type": "code",
"execution_count": null,
"metadata": {
"collapsed": false
},
"outputs": [],
"source": ["fsRf100Models = lapply(xnames, fitModelWithNFeat,\n", "                       fitter=RandomForestFitter(ntree=100), n=10)\n", "fsRf100Accs = sapply(fsRf100Models, function(u) {u$results$Accuracy})"]
},
{
"cell_type": "code",
"execution_count": null,
"metadata": {
"collapsed": false
},
"outputs": [],
"source": ["fsRf500Models = lapply(xnames, fitModelWithNFeat,\n", "                       fitter=RandomForestFitter(ntree=500), n=10)\n", "fsRf500Accs = sapply(fsRf500Models, function(u) {u$results$Accuracy})"]
},
{
"cell_type": "code",
"execution_count": null,
"metadata": {
"collapsed": false
},
"outputs": [],
"source": ["fsRf2500Models = lapply(xnames, fitModelWithNFeat,\n", "                        fitter=RandomForestFitter(ntree=2500), n=10)\n", "fsRf2500Accs = sapply(fsRf2500Models, function(u) {u$results$Accuracy})"]
}
 ],
 "metadata": {
  "kernelspec": {
   "display_name": "R",
   "language": "R",
   "name": "ir"
  },
  "language_info": {
   "codemirror_mode": "r",
   "file_extension": ".r",
   "mimetype": "text/x-r-source",
   "name": "R",
   "pygments_lexer": "r",
   "version": "3.2.3"
  }
 },
 "nbformat": 4,
 "nbformat_minor": 1
}

