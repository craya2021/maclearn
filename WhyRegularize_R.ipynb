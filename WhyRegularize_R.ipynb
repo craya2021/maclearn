{
 "cells": [
{
"cell_type": "code",
"execution_count": null,
"metadata": {
"collapsed": false
},
"outputs": [],
"source": ["library(caret)\n", "library(GGally)\n", "library(glmnet)\n", "library(pheatmap)"]
},
{
"cell_type": "code",
"execution_count": null,
"metadata": {
"collapsed": false
},
"outputs": [],
"source": ["source(\"modelpipe.R\")"]
},
{
"cell_type": "code",
"execution_count": null,
"metadata": {
"collapsed": false
},
"outputs": [],
"source": ["source(\"MaclearnUtilities.R\")"]
},
{
"cell_type": "code",
"execution_count": null,
"metadata": {
"collapsed": false
},
"outputs": [],
"source": ["## -----------------------------------------------------------------\n", "## linear regression simulated example\n", "## -----------------------------------------------------------------\n", "x = data.frame(matrix(rnorm(60), nrow=15, ncol=4))\n", "colnames(x) = LETTERS[1:4]\n", "x$B = x$A + 0.01*x$B"]
},
{
"cell_type": "code",
"execution_count": null,
"metadata": {
"collapsed": false
},
"outputs": [],
"source": ["y = x$D + rnorm(nrow(x))"]
},
{
"cell_type": "code",
"execution_count": null,
"metadata": {
"collapsed": false
},
"outputs": [],
"source": ["linmod = lm(y ~ ., data=x)\n", "coef(linmod)"]
},
{
"cell_type": "code",
"execution_count": null,
"metadata": {
"collapsed": false
},
"outputs": [],
"source": ["l2mod = glmnet(x=as.matrix(x), y=y, alpha=0, lambda=0.1)\n", "coef(l2mod)"]
},
{
"cell_type": "code",
"execution_count": null,
"metadata": {
"collapsed": false
},
"outputs": [],
"source": ["l1mod = glmnet(x=as.matrix(x), y=y, alpha=1, lambda=0.1)\n", "coef(l1mod)"]
},
{
"cell_type": "code",
"execution_count": null,
"metadata": {
"collapsed": false
},
"outputs": [],
"source": ["## -----------------------------------------------------------------\n", "## load Hess data\n", "## -----------------------------------------------------------------\n", "readTab = function(file) {\n", "    read.table(file, sep=\"\\t\",\n", "               header=TRUE, row.names=1, check.names=FALSE)\n", "}"]
},
{
"cell_type": "code",
"execution_count": null,
"metadata": {
"collapsed": false
},
"outputs": [],
"source": ["x = data.frame(\n", "    t(readTab(\"microarray/Hess/HessTrainingData.tsv.gz\")),\n", "    check.names = FALSE\n", ")\n", "annot = readTab(\"microarray/Hess/HessTrainingAnnotation.tsv\")\n", "y = annot$pCRtxt\n", "names(y) = rownames(annot)"]
},
{
"cell_type": "code",
"execution_count": null,
"metadata": {
"collapsed": false
},
"outputs": [],
"source": ["logisticFitter = SolderedPipeFitter(\n", "    FastTSelector(nFeat = 4),\n", "    GlmFitter(alpha=0, lambda=0)\n", ")\n", "logisticFit = logisticFitter(x, y)\n", "logisticCoef = coef(logisticFit[[2]]$fit)"]
},
{
"cell_type": "code",
"execution_count": null,
"metadata": {
"collapsed": false
},
"outputs": [],
"source": ["heatX = x[ , setdiff(rownames(logisticCoef), \"(Intercept)\")]\n", "heatY = data.frame(row.names=names(y), Group=y)\n", "pheatmap(\n", "    heatX,\n", "    annotation_row = heatY,\n", "    annotation_color = list(Group=c(pCR=\"black\", RD=\"gray\")),\n", "    show_rownames=FALSE\n", ")"]
},
{
"cell_type": "code",
"execution_count": null,
"metadata": {
"collapsed": false
},
"outputs": [],
"source": ["ggpairs(data.frame(heatX, y=y))"]
},
{
"cell_type": "code",
"execution_count": null,
"metadata": {
"collapsed": false
},
"outputs": [],
"source": ["## -----------------------------------------------------------------\n", "## regularized models\n", "## -----------------------------------------------------------------\n", "l2Fitter = SolderedPipeFitter(\n", "    FastTSelector(nFeat = 4),\n", "    GlmFitter(alpha=0, lambda=0.05)\n", ")\n", "l2Fit = l2Fitter(x, y)\n", "l2Coef = coef(l2Fit[[2]]$fit)"]
},
{
"cell_type": "code",
"execution_count": null,
"metadata": {
"collapsed": false
},
"outputs": [],
"source": ["l1Fitter = SolderedPipeFitter(\n", "    FastTSelector(nFeat = 4),\n", "    GlmFitter(alpha=1, lambda=0.05)\n", ")\n", "l1Fit = l1Fitter(x, y)\n", "l1Coef = coef(l1Fit[[2]]$fit)"]
},
{
"cell_type": "code",
"execution_count": null,
"metadata": {
"collapsed": false
},
"outputs": [],
"source": ["## -----------------------------------------------------------------\n", "## try with cross-validation\n", "## -----------------------------------------------------------------\n", "cvLogistic = train(\n", "    logisticFitter,\n", "    x,\n", "    y,\n", "    trControl = trainControl(\n", "        method = \"cv\",\n", "        number = 5,\n", "        seeds = as.list(rep(123, 6))\n", "    )\n", ")\n", "cvLogistic$results"]
},
{
"cell_type": "code",
"execution_count": null,
"metadata": {
"collapsed": false
},
"outputs": [],
"source": ["cvL1 = train(\n", "    l1Fitter,\n", "    x,\n", "    y,\n", "    trControl = trainControl(\n", "        method = \"cv\",\n", "        number = 5,\n", "        seeds = as.list(rep(123, 6))\n", "    )\n", ")\n", "cvL1$results"]
},
{
"cell_type": "code",
"execution_count": null,
"metadata": {
"collapsed": false
},
"outputs": [],
"source": ["cvL2 = train(\n", "    l2Fitter,\n", "    x,\n", "    y,\n", "    trControl = trainControl(\n", "        method = \"cv\",\n", "        number = 5,\n", "        seeds = as.list(rep(123, 6))\n", "    )\n", ")\n", "cvL2$results"]
}
 ],
 "metadata": {
  "kernelspec": {
   "display_name": "R",
   "language": "R",
   "name": "ir"
  },
  "language_info": {
   "codemirror_mode": "r",
   "file_extension": ".r",
   "mimetype": "text/x-r-source",
   "name": "R",
   "pygments_lexer": "r",
   "version": "3.2.3"
  }
 },
 "nbformat": 4,
 "nbformat_minor": 1
}

