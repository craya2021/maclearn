{
 "cells": [
{
"cell_type": "code",
"execution_count": null,
"metadata": {
"collapsed": false
},
"outputs": [],
"source": ["from collections import OrderedDict\n", "import copy\n", "import numpy as np\n", "import pandas as pd\n", "from pandas import DataFrame\n", "from pandas import Series\n", "import sklearn as sk\n", "import sklearn.model_selection as model_selection\n", "from sklearn.model_selection import ShuffleSplit\n", "import sklearn.ensemble as ensemble\n", "import sklearn.feature_selection as feature_selection\n", "import sklearn.discriminant_analysis as discriminant_analysis\n", "import sklearn.linear_model as linear_model\n", "import sklearn.naive_bayes as naive_bayes\n", "import sklearn.neighbors as neighbors\n", "import sklearn.pipeline as pipeline\n", "import sklearn.tree as tree"]
},
{
"cell_type": "code",
"execution_count": null,
"metadata": {
"collapsed": false
},
"outputs": [],
"source": ["import warnings\n", "warnings.filterwarnings(\"ignore\")"]
},
{
"cell_type": "code",
"execution_count": null,
"metadata": {
"collapsed": false
},
"outputs": [],
"source": ["import MaclearnUtilities"]
},
{
"cell_type": "code",
"execution_count": null,
"metadata": {
"collapsed": false
},
"outputs": [],
"source": ["import RestrictedData\n", "xs = RestrictedData.xs\n", "xnorms = RestrictedData.xnorms\n", "annots = RestrictedData.annots\n", "ys = RestrictedData.ys\n", "ynums = RestrictedData.ynums"]
},
{
"cell_type": "code",
"execution_count": null,
"metadata": {
"collapsed": false
},
"outputs": [],
"source": ["cvSchedules = {k : ShuffleSplit(n_splits = 5,\n", "                                test_size = 0.2,\n", "                                random_state = 123)\n", "               for k in xnorms}"]
},
{
"cell_type": "code",
"execution_count": null,
"metadata": {
"collapsed": false
},
"outputs": [],
"source": ["def pandaize(f):\n", "    def pandaized(estimator, X, y, **kwargs):\n", "        return f(estimator, np.array(X), y, **kwargs)\n", "    return pandaized"]
},
{
"cell_type": "code",
"execution_count": null,
"metadata": {
"collapsed": false
},
"outputs": [],
"source": ["@pandaize\n", "def cross_val_score_pd(estimator, X, y, **kwargs):\n", "    return model_selection.cross_val_score(estimator, X, y, **kwargs)"]
},
{
"cell_type": "code",
"execution_count": null,
"metadata": {
"collapsed": false
},
"outputs": [],
"source": ["def fitModelWithNFeat(fitter, n, setname, cv=None):\n", "    if cv is None:\n", "        cv = cvSchedules[setname]\n", "    if n > xnorms[setname].shape[1]:\n", "        return None\n", "    fsFitter = pipeline.Pipeline([\n", "        ('featsel', feature_selection.SelectKBest(\n", "                feature_selection.f_regression, k=n)),\n", "        ('classifier', fitter)\n", "    ])\n", "    return np.mean(cross_val_score_pd(estimator = fsFitter,\n", "                                      X = xnorms[setname],\n", "                                      y = ynums[setname],\n", "                                      cv = cv.split(xnorms[setname])))"]
},
{
"cell_type": "code",
"execution_count": null,
"metadata": {
"collapsed": false
},
"outputs": [],
"source": ["fitters = {\n", "    \"knn5\" : neighbors.KNeighborsClassifier(n_neighbors=5),\n", "    \"knn9\" : neighbors.KNeighborsClassifier(n_neighbors=9),\n", "    \"logistic\" : linear_model.LogisticRegression(C=1e10),\n", "    \"l1\" : linear_model.LogisticRegression(penalty=\"l1\", C=1),\n", "    \"l2\" : linear_model.LogisticRegression(penalty=\"l2\", C=1),\n", "    \"lda\" : discriminant_analysis.LinearDiscriminantAnalysis(),\n", "    \"nb_gauss\" : naive_bayes.GaussianNB(),\n", "    \"rf\" : ensemble.RandomForestClassifier(n_estimators=500),\n", "    \"ada\" : ensemble.AdaBoostClassifier(\n", "        base_estimator = tree.DecisionTreeClassifier(\n", "            max_depth = 3,\n", "            min_samples_split = 20,\n", "            min_samples_leaf = 7\n", "        ),\n", "        learning_rate = 0.05,\n", "        n_estimators = 100\n", "    )\n", "}"]
},
{
"cell_type": "code",
"execution_count": null,
"metadata": {
"collapsed": false
},
"outputs": [],
"source": ["modelFits10 = {}\n", "for s in xnorms:\n", "    modelFits10[s] = {f : fitModelWithNFeat(fitters[f],\n", "                                            n = 10,\n", "                                            setname = s)\n", "                           for f in fitters}"]
},
{
"cell_type": "code",
"execution_count": null,
"metadata": {
"collapsed": false
},
"outputs": [],
"source": ["modelFits10 = DataFrame(modelFits10)"]
},
{
"cell_type": "code",
"execution_count": null,
"metadata": {
"collapsed": false
},
"outputs": [],
"source": ["modelFits20 = {}\n", "for s in xnorms:\n", "    modelFits20[s] = {f : fitModelWithNFeat(fitters[f],\n", "                                           n = 20,\n", "                                           setname = s)\n", "                           for f in fitters}"]
},
{
"cell_type": "code",
"execution_count": null,
"metadata": {
"collapsed": false
},
"outputs": [],
"source": ["modelFits20 = DataFrame(modelFits20)"]
},
{
"cell_type": "code",
"execution_count": null,
"metadata": {
"collapsed": false
},
"outputs": [],
"source": ["modelFits50 = {}\n", "for s in xnorms:\n", "    modelFits50[s] = {f : fitModelWithNFeat(fitters[f],\n", "                                            n = 50,\n", "                                            setname = s)\n", "                           for f in fitters}"]
},
{
"cell_type": "code",
"execution_count": null,
"metadata": {
"collapsed": false
},
"outputs": [],
"source": ["modelFits50 = DataFrame(modelFits50)"]
}
 ],
 "metadata": {
  "kernelspec": {
   "display_name": "Python 3",
   "language": "python",
   "name": "python3"
  },
  "language_info": {
   "codemirror_mode": {
    "name": "ipython",
    "version": 3
   },
   "file_extension": ".py",
   "mimetype": "text/x-python",
   "name": "python",
   "nbconvert_exporter": "python",
   "pygments_lexer": "ipython3",
   "version": "3.4.3"
  }
 },
 "nbformat": 4,
 "nbformat_minor": 1
}

