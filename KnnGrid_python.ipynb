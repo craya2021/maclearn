{
 "cells": [
{
"cell_type": "code",
"execution_count": null,
"metadata": {
"collapsed": false
},
"outputs": [],
"source": ["from collections import OrderedDict\n", "import numpy as np\n", "import pandas as pd\n", "from pandas import DataFrame\n", "from pandas import Series\n", "import sklearn as sk\n", "import sklearn.model_selection as model_selection\n", "from sklearn.model_selection import ShuffleSplit\n", "import sklearn.feature_selection as feature_selection\n", "import sklearn.neighbors as neighbors\n", "import sklearn.pipeline as pipeline"]
},
{
"cell_type": "code",
"execution_count": null,
"metadata": {
"collapsed": false
},
"outputs": [],
"source": ["import warnings\n", "warnings.filterwarnings(\"ignore\")"]
},
{
"cell_type": "code",
"execution_count": null,
"metadata": {
"collapsed": false
},
"outputs": [],
"source": ["import pcaextractor\n", "import MaclearnUtilities\n", "from MaclearnUtilities import safeFactorize"]
},
{
"cell_type": "code",
"execution_count": null,
"metadata": {
"collapsed": false
},
"outputs": [],
"source": ["import RestrictedData\n", "xs = RestrictedData.xs\n", "xnorms = RestrictedData.xnorms\n", "annots = RestrictedData.annots\n", "ys = RestrictedData.ys\n", "ynums = RestrictedData.ynums"]
},
{
"cell_type": "code",
"execution_count": null,
"metadata": {
"collapsed": false
},
"outputs": [],
"source": ["## Note sklearn has some nice built-in capabilities\n", "## for tuning model parameters over a grid of potential values...\n", "## Here doing things manually instead for more explicit illustration."]
},
{
"cell_type": "code",
"execution_count": null,
"metadata": {
"collapsed": false
},
"outputs": [],
"source": ["def pandaize(f):\n", "    def pandaized(estimator, X, y, **kwargs):\n", "        return f(estimator, np.array(X), safeFactorize(y), **kwargs)\n", "    return pandaized"]
},
{
"cell_type": "code",
"execution_count": null,
"metadata": {
"collapsed": false
},
"outputs": [],
"source": ["@pandaize\n", "def cross_val_score_pd(estimator, X, y, **kwargs):\n", "    return model_selection.cross_val_score(\n", "            estimator, X, y, **kwargs)"]
},
{
"cell_type": "code",
"execution_count": null,
"metadata": {
"collapsed": false
},
"outputs": [],
"source": ["def fsKnnFitterGenerator(k):\n", "    return pipeline.Pipeline([\n", "        ('featsel', feature_selection.SelectKBest(\n", "                feature_selection.f_regression, k=10)),\n", "        ('classifier', neighbors.KNeighborsClassifier(\n", "                n_neighbors=k))\n", "    ])"]
},
{
"cell_type": "code",
"execution_count": null,
"metadata": {
"collapsed": false
},
"outputs": [],
"source": ["cvSchedules = {k : ShuffleSplit(n_splits = 5,\n", "                                test_size = 0.2,\n", "                                random_state = 123)\n", "               for k in xnorms}"]
},
{
"cell_type": "code",
"execution_count": null,
"metadata": {
"collapsed": false
},
"outputs": [],
"source": ["ks = [3, 5, 9, 15]\n", "knnModels = [\n", "    OrderedDict([\n", "        (s, np.mean(cross_val_score_pd(\n", "            estimator = fsKnnFitterGenerator(k),\n", "            X = xnorms[s],\n", "            y = ys[s],\n", "            cv = cvSchedules[s].split(xnorms[s]))))\n", "        for s in xnorms\n", "    ])\n", "    for k in ks\n", "]"]
},
{
"cell_type": "code",
"execution_count": null,
"metadata": {
"collapsed": false
},
"outputs": [],
"source": ["knnCvAccs = DataFrame(knnModels, index=ks)"]
}
 ],
 "metadata": {
  "kernelspec": {
   "display_name": "Python 3",
   "language": "python",
   "name": "python3"
  },
  "language_info": {
   "codemirror_mode": {
    "name": "ipython",
    "version": 3
   },
   "file_extension": ".py",
   "mimetype": "text/x-python",
   "name": "python",
   "nbconvert_exporter": "python",
   "pygments_lexer": "ipython3",
   "version": "3.4.3"
  }
 },
 "nbformat": 4,
 "nbformat_minor": 1
}

