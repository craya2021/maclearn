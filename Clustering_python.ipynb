{
 "cells": [
{
"cell_type": "code",
"execution_count": null,
"metadata": {
"collapsed": false
},
"outputs": [],
"source": ["import matplotlib.pyplot as plt\n", "import numpy as np\n", "import pandas as pd\n", "from pandas import DataFrame\n", "from pandas import Series\n", "import scipy\n", "import scipy.cluster\n", "import seaborn as sns\n", "import sklearn\n", "import sklearn.cluster"]
},
{
"cell_type": "code",
"execution_count": null,
"metadata": {
"collapsed": false
},
"outputs": [],
"source": ["import SimData"]
},
{
"cell_type": "code",
"execution_count": null,
"metadata": {
"collapsed": false
},
"outputs": [],
"source": ["plt.ion()\n", "plt.style.use(\"fivethirtyeight\")"]
},
{
"cell_type": "code",
"execution_count": null,
"metadata": {
"collapsed": false
},
"outputs": [],
"source": ["simDat = SimData.simulate2Group(n=40, p=2, effect=[1, 0.75])\n", "xsim = simDat['x']\n", "ysim = simDat['y']"]
},
{
"cell_type": "code",
"execution_count": null,
"metadata": {
"collapsed": false
},
"outputs": [],
"source": ["## -----------------------------------------------------------------\n", "## k-means clustering\n", "## -----------------------------------------------------------------\n", "k2Clusterer = sklearn.cluster.KMeans(n_clusters=2)\n", "kmSim = k2Clusterer.fit(xsim)\n", "kmSimClusts = kmSim.predict(xsim)"]
},
{
"cell_type": "code",
"execution_count": null,
"metadata": {
"collapsed": false
},
"outputs": [],
"source": ["def kmplot(xy):\n", "    x = xy['x']\n", "    y = xy['y']\n", "    km = sklearn.cluster.KMeans(n_clusters=2).fit(x)\n", "    plotdata = x.copy()\n", "    clust = km.predict(x)\n", "    if sum((clust-0.5) * (y-0.5)) < 0:\n", "        clust = 1 - clust\n", "    isright = np.sign((clust-0.5) * (y-0.5))\n", "    plotdata['group'] = (1-isright) + y\n", "    ax = plotdata.loc[plotdata[\"group\"] == 0].plot.scatter(\n", "        x=\"g0\", y=\"g1\", color=\"black\"\n", "    )\n", "    plotdata.loc[plotdata[\"group\"] == 1].plot.scatter(\n", "        x=\"g0\", y=\"g1\", color=\"goldenrod\", ax=ax\n", "    )\n", "    if len(plotdata[\"group\"].unique()) > 2:\n", "        plotdata.loc[plotdata[\"group\"] == 2].plot.scatter(\n", "            x=\"g0\", y=\"g1\", color=\"lightgray\", ax=ax\n", "        )\n", "        plotdata.loc[plotdata[\"group\"] == 3].plot.scatter(\n", "            x=\"g0\", y=\"g1\", color=\"red\", ax=ax\n", "        )\n", "    return(plotdata)"]
},
{
"cell_type": "code",
"execution_count": null,
"metadata": {
"collapsed": false
},
"outputs": [],
"source": ["plt.close()\n", "kmplot(SimData.simulate2Group(n=40, p=2, effect=[10, 0]))"]
},
{
"cell_type": "code",
"execution_count": null,
"metadata": {
"collapsed": false
},
"outputs": [],
"source": ["plt.close()\n", "kmplot(SimData.simulate2Group(n=40, p=2, effect=[1, 0.75]))"]
},
{
"cell_type": "code",
"execution_count": null,
"metadata": {
"collapsed": false
},
"outputs": [],
"source": ["## -----------------------------------------------------------------\n", "## hierarchical clustering\n", "## -----------------------------------------------------------------\n", "simData2 = SimData.simulate2Group(n=40, p=20, effect=[2, 1, 1])\n", "xsim2 = simData2['x']\n", "ysim2 = simData2['y']"]
},
{
"cell_type": "code",
"execution_count": null,
"metadata": {
"collapsed": false
},
"outputs": [],
"source": ["plt.close()\n", "xdist = scipy.spatial.distance.pdist(xsim, metric=\"euclidean\")\n", "ihcSim = scipy.cluster.hierarchy.average(xdist)\n", "idendrout = scipy.cluster.hierarchy.dendrogram(ihcSim,\n", "                                               orientation = \"right\")"]
},
{
"cell_type": "code",
"execution_count": null,
"metadata": {
"collapsed": false
},
"outputs": [],
"source": ["plt.close()\n", "gdist = scipy.spatial.distance.pdist(xsim2.transpose(), metric=\"euclidean\")\n", "ghcSim = scipy.cluster.hierarchy.average(gdist)\n", "gdendrout = scipy.cluster.hierarchy.dendrogram(ghcSim,\n", "                                               orientation = \"right\")"]
},
{
"cell_type": "code",
"execution_count": null,
"metadata": {
"collapsed": false
},
"outputs": [],
"source": ["## -----------------------------------------------------------------\n", "## clustered heatmap\n", "## -----------------------------------------------------------------\n", "heatColors = pd.Series(['#000000']*xsim2.shape[0], index=xsim2.index)\n", "heatColors.loc[ysim2 == 1] = '#FF0066'\n", "plt.close()\n", "sns.clustermap(xsim2.transpose(), method='complete', col_colors=heatColors)"]
},
{
"cell_type": "code",
"execution_count": null,
"metadata": {
"collapsed": false
},
"outputs": [],
"source": ["## -----------------------------------------------------------------\n", "## on real data...\n", "## -----------------------------------------------------------------\n", "import RestrictedData\n", "xs = RestrictedData.xs\n", "xnorms = RestrictedData.xnorms\n", "annots = RestrictedData.annots\n", "ys = RestrictedData.ys\n", "ynums = RestrictedData.ynums"]
},
{
"cell_type": "code",
"execution_count": null,
"metadata": {
"collapsed": false
},
"outputs": [],
"source": ["shenHighVar = xnorms['shen'].columns[xnorms['shen'].std() > 2]\n", "heatX = xnorms['shen'][shenHighVar].transpose()\n", "## remove overall gene-means from data for more useful plot\n", "heatX = heatX.subtract(heatX.mean(axis=1), axis=0)\n", "## pay attention to changes around mean, not far from it\n", "maxLogFoldChange = 2.5\n", "heatX[heatX > maxLogFoldChange] = maxLogFoldChange\n", "heatX[heatX < -maxLogFoldChange] = -maxLogFoldChange"]
},
{
"cell_type": "code",
"execution_count": null,
"metadata": {
"collapsed": false
},
"outputs": [],
"source": ["# heatColors = pd.Series(['#000000']*heatX.shape[1], index=heatX.columns)\n", "# heatColors.loc[ys['shen'] == 'DBA/2J'] = '#FF0066'\n", "# heatColors = pd.DataFrame({'Mouse Strain' : heatColors})"]
},
{
"cell_type": "code",
"execution_count": null,
"metadata": {
"collapsed": false
},
"outputs": [],
"source": ["heatColors = pd.Series({\n", "    'circulatory' : 'firebrick',\n", "    'digestive/excretory' : 'goldenrod',\n", "    'lymphatic' : 'lightseagreen',\n", "    'nervous' : 'darkorchid',\n", "    'other' : 'darkslategray',\n", "    'respiratory' : 'dodgerblue'\n", "}).reindex(annots['shen']['System'].values)\n", "heatColors.index = annots['shen'].index\n", "heatColors = pd.DataFrame({'System' : heatColors})\n", "heatColors = heatColors.reindex(heatX.columns)"]
},
{
"cell_type": "code",
"execution_count": null,
"metadata": {
"collapsed": false
},
"outputs": [],
"source": ["plt.close()\n", "cm = sns.clustermap(heatX, method='complete', col_colors=heatColors, figsize=(10, 10))\n", "garbage = plt.setp(cm.ax_heatmap.yaxis.get_majorticklabels(), rotation=0)\n", "garbage = plt.setp(cm.ax_heatmap.xaxis.get_majorticklabels(), rotation=90)"]
}
 ],
 "metadata": {
  "kernelspec": {
   "display_name": "Python 3",
   "language": "python",
   "name": "python3"
  },
  "language_info": {
   "codemirror_mode": {
    "name": "ipython",
    "version": 3
   },
   "file_extension": ".py",
   "mimetype": "text/x-python",
   "name": "python",
   "nbconvert_exporter": "python",
   "pygments_lexer": "ipython3",
   "version": "3.4.3"
  }
 },
 "nbformat": 4,
 "nbformat_minor": 1
}

