{
 "cells": [
{
"cell_type": "code",
"execution_count": null,
"metadata": {
"collapsed": false
},
"outputs": [],
"source": ["library(caret)\n", "library(e1071)\n", "library(ggplot2)"]
},
{
"cell_type": "code",
"execution_count": null,
"metadata": {
"collapsed": false
},
"outputs": [],
"source": ["source(\"MaclearnUtilities.R\")\n", "source(\"modelpipe.R\")"]
},
{
"cell_type": "code",
"execution_count": null,
"metadata": {
"collapsed": false
},
"outputs": [],
"source": ["load(\"prepared_datasets.RData\")"]
},
{
"cell_type": "code",
"execution_count": null,
"metadata": {
"collapsed": false
},
"outputs": [],
"source": ["source(\"fitModelWithNFeat.R\")"]
},
{
"cell_type": "code",
"execution_count": null,
"metadata": {
"collapsed": false
},
"outputs": [],
"source": ["fsSvmLinModels = lapply(xnames, fitModelWithNFeat,\n", "                        fitter=SvmFitter(kernel=\"linear\", cost=1), n=10)\n", "fsSvmLinAccs = sapply(fsSvmLinModels, function(u) {u$results$Accuracy})"]
},
{
"cell_type": "code",
"execution_count": null,
"metadata": {
"collapsed": false
},
"outputs": [],
"source": ["fsSvmRadModels = lapply(xnames, fitModelWithNFeat,\n", "                        fitter=SvmFitter(kernel=\"radial\", cost=1), n=10)\n", "fsSvmRadAccs = sapply(fsSvmRadModels, function(u) {u$results$Accuracy})"]
},
{
"cell_type": "code",
"execution_count": null,
"metadata": {
"collapsed": false
},
"outputs": [],
"source": ["## -----------------------------------------------------------------\n", "## contour plot examples\n", "## -----------------------------------------------------------------\n", "source(\"~/workspace/miscr/Plotting.R\")"]
},
{
"cell_type": "code",
"execution_count": null,
"metadata": {
"collapsed": false
},
"outputs": [],
"source": ["svmPlot = function(kernel=\"radial\", cost=1, gamma=1/2, ...) {\n", "    y = factor(gsub(\"subtype: \", \"\", ys$patel))\n", "    names(y) = rownames(xnorms$patel)\n", "    svmMod = SvmFitter(kernel=kernel, cost=cost, gamma=gamma)(\n", "                       xnorms$patel[ , c(\"NAMPT\", \"CFI\")], y)\n", "    svmPred = function(x, y) {\n", "        svmMod$predict(x=data.frame(NAMPT=x, CFI=y))\n", "    }\n", "    ggobj = ggfuntile(svmPred, xrange=c(-7.25, 6.25), yrange=c(-4.25, 7.5),\n", "                      density=201, zlab=\"P(Pro)\", xlab=\"NAMPT\", ylab=\"CFI\")\n", "    svm2 = xnorms$patel[ , c(\"NAMPT\", \"CFI\")]\n", "    svm2$z = svmPred(svm2[ , 1], svm2[ , 2])\n", "    svm2$class = y[rownames(svm2)]\n", "    ggo2 = ggobj + geom_point(data=svm2,\n", "                              aes(x=NAMPT, y=CFI, shape=class),\n", "                              color=\"white\", size=3, alpha=0.8) +\n", "                   scale_shape_manual(values=c(6, 17), guide=FALSE)\n", "    cost = gsub(\"\\\\.\", \"p\", as.character(round(cost, 2)))\n", "    gamma = gsub(\"\\\\.\", \"p\", as.character(round(gamma, 2)))\n", "    png(paste0(\"svm_\", kernel, \"_c\", cost, \"_g\", gamma, \"_contour.png\"),\n", "        h=1920, w=1920*1.2, res=288*1.25)\n", "    print(ggo2)\n", "    garbage = dev.off()\n", "}"]
},
{
"cell_type": "code",
"execution_count": null,
"metadata": {
"collapsed": false
},
"outputs": [],
"source": ["svmPlot(\"linear\", cost=1)"]
},
{
"cell_type": "code",
"execution_count": null,
"metadata": {
"collapsed": false
},
"outputs": [],
"source": ["svmPlot(\"radial\", cost=0.2, gamma=1/2)\n", "svmPlot(\"radial\", cost=1, gamma=1/2)\n", "svmPlot(\"radial\", cost=5, gamma=1/2)"]
},
{
"cell_type": "code",
"execution_count": null,
"metadata": {
"collapsed": false
},
"outputs": [],
"source": ["svmPlot(\"radial\", cost=1, gamma=0.2/2)\n", "svmPlot(\"radial\", cost=0.2, gamma=1/2)\n", "svmPlot(\"radial\", cost=1, gamma=5/2)\n", "svmPlot(\"radial\", cost=1, gamma=25/2)\n", "svmPlot(\"radial\", cost=1, gamma=125/2)"]
},
{
"cell_type": "code",
"execution_count": null,
"metadata": {
"collapsed": false
},
"outputs": [],
"source": ["## svmPlot(\"radial\", cost=0.1)\n", "## svmPlot(\"radial\", cost=1, gamma=25/ncol(xnorms$patel))"]
}
 ],
 "metadata": {
  "kernelspec": {
   "display_name": "R",
   "language": "R",
   "name": "ir"
  },
  "language_info": {
   "codemirror_mode": "r",
   "file_extension": ".r",
   "mimetype": "text/x-r-source",
   "name": "R",
   "pygments_lexer": "r",
   "version": "3.2.3"
  }
 },
 "nbformat": 4,
 "nbformat_minor": 1
}

