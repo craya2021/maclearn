{
 "cells": [
{
"cell_type": "code",
"execution_count": null,
"metadata": {
"collapsed": false
},
"outputs": [],
"source": ["library(caret)\n", "library(class)\n", "library(ggplot2)"]
},
{
"cell_type": "code",
"execution_count": null,
"metadata": {
"collapsed": false
},
"outputs": [],
"source": ["source(\"modelpipe.R\")"]
},
{
"cell_type": "code",
"execution_count": null,
"metadata": {
"collapsed": false
},
"outputs": [],
"source": ["load(\"prepared_datasets.RData\")"]
},
{
"cell_type": "code",
"execution_count": null,
"metadata": {
"collapsed": false
},
"outputs": [],
"source": ["fitModelWithNFeat = function(fitter, n, setname,\n", "        fold=5, seed=123) {cat(class(fitter), '\\n')\n", "    if (n > ncol(xnorms[[setname]])) {\n", "        return(NA)\n", "    }\n", "    fsFitter = SolderedPipeFitter(\n", "        FastTSelector(nFeat=n),\n", "        fitter\n", "    )\n", "    fit = train(\n", "        fsFitter,\n", "        xnorms[[setname]],\n", "        ys[[setname]],\n", "        trControl = trainControl(\n", "            method = \"cv\",\n", "            number = fold,\n", "            seeds = as.list(rep(seed, times=fold+1))\n", "        )\n", "    )\n", "    return(list(\n", "        fit = fit,\n", "        acc = fit$results$Accuracy\n", "    ))\n", "}"]
},
{
"cell_type": "code",
"execution_count": null,
"metadata": {
"collapsed": false
},
"outputs": [],
"source": ["fitters = list(\n", "    knn5 = KnnFitter(k=5),\n", "    knn9 = KnnFitter(k=9),\n", "    logistic = GlmFitter(lambda=1e-10),\n", "    l1 = GlmFitter(alpha=1, lambda=NULL),\n", "    l2 = GlmFitter(alpha=0, lambda=NULL),\n", "    lda = LdaFitter(),\n", "    dlda = dldaFitter,\n", "    rf = RandomForestFitter(),\n", "    ada = AdaFitter()\n", ")"]
},
{
"cell_type": "code",
"execution_count": null,
"metadata": {
"collapsed": false
},
"outputs": [],
"source": ["xnames = names(xnorms)\n", "names(xnames) = xnames"]
},
{
"cell_type": "code",
"execution_count": null,
"metadata": {
"collapsed": false
},
"outputs": [],
"source": ["modelFits10 = lapply(X=xnames, FUN=function(setname) {\n", "    return(lapply(X=fitters, FUN=function(fitter) {\n", "        fitModelWithNFeat(fitter=fitter, n=10, setname=setname)\n", "    }))\n", "})\n", "modelFits10Accs = sapply(\n", "    X = modelFits10,\n", "    FUN = function(u) {sapply(u, function(v) {v$fit$results$Accuracy})}\n", ")\n", "write.table(data.frame(M=rownames(modelFits10Accs), modelFits10Accs),\n", "            file=\"modelFits10Accs.tsv\", sep=\"\\t\", row.names=FALSE)"]
},
{
"cell_type": "code",
"execution_count": null,
"metadata": {
"collapsed": false
},
"outputs": [],
"source": ["## modelFits20 = lapply(X=xnames, FUN=function(setname) {\n", "##     return(lapply(X=fitters, FUN=function(fitter) {\n", "##         fitModelWithNFeat(fitter=fitter, n=20, setname=setname)\n", "##     }))\n", "## })\n", "## modelFits20Accs = sapply(\n", "##     X = modelFits20,\n", "##     FUN = function(u) {sapply(u, function(v) {v$acc})}\n", "## )\n", "## write.table(data.frame(M=rownames(modelFits20Accs), modelFits20Accs),\n", "##         file=\"modelFits20Accs.tsv\", sep=\"\\t\", row.names=FALSE)"]
},
{
"cell_type": "code",
"execution_count": null,
"metadata": {
"collapsed": false
},
"outputs": [],
"source": ["modelFits50 = lapply(X=xnames, FUN=function(setname) {\n", "    return(lapply(X=fitters, FUN=function(fitter) {\n", "        fitModelWithNFeat(fitter=fitter, n=50, setname=setname)\n", "    }))\n", "})\n", "modelFits50Accs = sapply(\n", "    X = modelFits50,\n", "    FUN = function(u) {sapply(u, function(v) {v$acc})}\n", ")\n", "write.table(data.frame(M=rownames(modelFits50Accs), modelFits50Accs),\n", "            file=\"modelFits50Accs.tsv\", sep=\"\\t\", row.names=FALSE)"]
}
 ],
 "metadata": {
  "kernelspec": {
   "display_name": "R",
   "language": "R",
   "name": "ir"
  },
  "language_info": {
   "codemirror_mode": "r",
   "file_extension": ".r",
   "mimetype": "text/x-r-source",
   "name": "R",
   "pygments_lexer": "r",
   "version": "3.2.3"
  }
 },
 "nbformat": 4,
 "nbformat_minor": 1
}

