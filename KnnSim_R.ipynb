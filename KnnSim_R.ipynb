{
 "cells": [
{
"cell_type": "code",
"execution_count": null,
"metadata": {
"collapsed": false
},
"outputs": [],
"source": ["library(class)\n", "library(ggplot2)"]
},
{
"cell_type": "code",
"execution_count": null,
"metadata": {
"collapsed": false
},
"outputs": [],
"source": ["source(\"SimData.R\")"]
},
{
"cell_type": "code",
"execution_count": null,
"metadata": {
"collapsed": false
},
"outputs": [],
"source": ["x2_train = simulate2Group(n=100, p=2, effect=rep(1.25, 2))\n", "knnResub = knn(\n", "    train = x2_train$x,\n", "    test = x2_train$x,\n", "    cl = x2_train$y,\n", "    k = 3\n", ")\n", "sum(diag(table(knnResub, x2_train$y)))\n", "x2_test = simulate2Group(n=100, p=2, effect=rep(1.25, 2))\n", "knnTest = knn(\n", "    train = x2_train$x,\n", "    test = x2_test$x,\n", "    cl = x2_train$y,\n", "    k = 3\n", ")\n", "sum(diag(table(knnTest, x2_test$y)))"]
},
{
"cell_type": "code",
"execution_count": null,
"metadata": {
"collapsed": false
},
"outputs": [],
"source": ["parGrid = expand.grid(\n", "    n = 100,\n", "    p = c(2, 5, 10, 25, 100, 500),\n", "    k = c(3, 5, 10, 25)\n", ")\n", "parGrid$effect = rep(2.5 / sqrt(parGrid$p))\n", "rownames(parGrid) = paste0(\"p\", parGrid$p, \"_k\", parGrid$k)"]
},
{
"cell_type": "code",
"execution_count": null,
"metadata": {
"collapsed": false
},
"outputs": [],
"source": ["knnSimulate = function(param) {\n", "    param = as.list(param)\n", "    trainSet = simulate2Group(n=param$n, p=param$p,\n", "                              effect=rep(param$effect, param$p))\n", "    testSet = simulate2Group(n=param$n, p=param$p,\n", "                             effect=rep(param$effect, param$p))\n", "    out = list(\n", "        p = param$p,\n", "        k = param$k,\n", "        train = trainSet,\n", "        test = testSet,\n", "        resubPreds = knn(trainSet$x, trainSet$x, trainSet$y,\n", "                         k=param$k),\n", "        resubProbs = knn(trainSet$x, trainSet$x, trainSet$y,\n", "                         k=param$k, prob=TRUE),\n", "        testPreds = knn(trainSet$x, testSet$x, trainSet$y,\n", "                        k=param$k),\n", "        testProbs = knn(trainSet$x, testSet$x, trainSet$y,\n", "                        k=param$k, prob=TRUE)\n", "    )\n", "    out$resubTable = table(\n", "        Predicted = out$resubPreds,\n", "        Actual = trainSet$y\n", "    )\n", "    out$resubAccuracy = sum(diag(out$resubTable)) /\n", "                        sum(out$resubTable)\n", "    out$testTable = table(\n", "        Predicted = out$testPreds,\n", "        Actual = testSet$y\n", "    )\n", "    out$testAccuracy = sum(diag(out$testTable)) /\n", "                       sum(out$testTable)\n", "    return(out)\n", "}"]
},
{
"cell_type": "code",
"execution_count": null,
"metadata": {
"collapsed": false
},
"outputs": [],
"source": ["set.seed(123)\n", "knnResults = apply(X=parGrid, MARGIN=1, FUN=knnSimulate)"]
},
{
"cell_type": "code",
"execution_count": null,
"metadata": {
"collapsed": false
},
"outputs": [],
"source": ["set.seed(123)\n", "repeatedKnnResults = lapply(X=1:10, FUN=function(...) {\n", "    apply(X=parGrid, MARGIN=1, FUN=knnSimulate)\n", "})\n", "repeatedKnnResults = do.call(c, args=repeatedKnnResults)\n", "knnResultsSimplified = data.frame(do.call(rbind, args=lapply(\n", "    X = repeatedKnnResults,\n", "    FUN = function(x) {\n", "        outColnames = c(\"p\", \"k\", \"resubAccuracy\", \"testAccuracy\")\n", "        out = x[outColnames]\n", "        return(structure(as.numeric(out), names=outColnames))\n", "    }\n", ")))"]
},
{
"cell_type": "code",
"execution_count": null,
"metadata": {
"collapsed": false
},
"outputs": [],
"source": ["ggdata = rbind(\n", "    data.frame(\n", "        p = knnResultsSimplified$p,\n", "        k = paste0(\"k=\", knnResultsSimplified$k),\n", "        type = \"resub\",\n", "        Accuracy = knnResultsSimplified$resubAccuracy\n", "    ),\n", "    data.frame(\n", "        p = knnResultsSimplified$p,\n", "        k = paste0(\"k=\", knnResultsSimplified$k),\n", "        type = \"test\",\n", "        Accuracy = knnResultsSimplified$testAccuracy\n", "    )\n", ")\n", "ggdata$k = factor(as.character(ggdata$k),\n", "                  levels = c(\"k=3\", \"k=5\", \"k=10\", \"k=25\"))"]
},
{
"cell_type": "code",
"execution_count": null,
"metadata": {
"collapsed": false
},
"outputs": [],
"source": ["ggobj = ggplot(\n", "    data = ggdata,\n", "    mapping = aes(x=p, y=Accuracy,\n", "                  color=type, group=type, linetype=type)\n", ") + theme_bw()\n", "ggobj = ggobj + scale_x_log10()\n", "ggobj = ggobj + geom_point(alpha=0.6)\n", "ggobj = ggobj + stat_smooth(method='loess', method.args=list(degree=1))\n", "ggobj = ggobj + facet_wrap(~k)\n", "## pdf(\"KnnSim.pdf\", h=5, w=5*1.175)\n", "print(ggobj)\n", "## garbage = dev.off()"]
}
 ],
 "metadata": {
  "kernelspec": {
   "display_name": "R",
   "language": "R",
   "name": "ir"
  },
  "language_info": {
   "codemirror_mode": "r",
   "file_extension": ".r",
   "mimetype": "text/x-r-source",
   "name": "R",
   "pygments_lexer": "r",
   "version": "3.2.3"
  }
 },
 "nbformat": 4,
 "nbformat_minor": 1
}

