{
 "cells": [
{
"cell_type": "code",
"execution_count": null,
"metadata": {
"collapsed": false
},
"outputs": [],
"source": ["library(caret)\n", "library(class)\n", "library(ggplot2)"]
},
{
"cell_type": "code",
"execution_count": null,
"metadata": {
"collapsed": false
},
"outputs": [],
"source": ["source(\"modelpipe.R\")"]
},
{
"cell_type": "code",
"execution_count": null,
"metadata": {
"collapsed": false
},
"outputs": [],
"source": ["## source(\"LoadData.R\")\n", "## source(\"NormalizeData.R\")\n", "## source(\"RestrictData.R\")\n", "## source(\"ExtractYs.R\")\n", "load(\"prepared_datasets.RData\")"]
},
{
"cell_type": "code",
"execution_count": null,
"metadata": {
"collapsed": false
},
"outputs": [],
"source": ["knnModels = mapply(\n", "    FUN = train,\n", "    xnorms,\n", "    ys,\n", "    MoreArgs = list(\n", "        method = \"knn\",\n", "        tuneGrid = data.frame(k=3),\n", "        trControl = trainControl(\n", "            method = \"cv\",\n", "            number = 5,\n", "            seeds = as.list(rep(123, 6))\n", "        )\n", "    ),\n", "    SIMPLIFY = FALSE\n", ")\n", "knnCvAccs = sapply(knnModels, function(u) {u$results$Accuracy})"]
},
{
"cell_type": "code",
"execution_count": null,
"metadata": {
"collapsed": false
},
"outputs": [],
"source": ["## -----------------------------------------------------------------\n", "## try with univariate filter feature selection\n", "## -----------------------------------------------------------------\n", "fsKnnFitter = SolderedPipeFitter(\n", "    FastTSelector(nFeat = 10),\n", "    KnnFitter(k = 3)\n", ")"]
},
{
"cell_type": "code",
"execution_count": null,
"metadata": {
"collapsed": false
},
"outputs": [],
"source": ["fsKnnFits = mapply(\n", "    FUN = train,\n", "    lapply(1:length(xnorms), function(...) {fsKnnFitter}),\n", "    xnorms,\n", "    ys,\n", "    MoreArgs = list(\n", "        trControl = trainControl(\n", "            method = \"cv\",\n", "            number = 5,\n", "            seeds = as.list(rep(123, 6))\n", "        )\n", "    ),\n", "    SIMPLIFY = FALSE\n", ")"]
},
{
"cell_type": "code",
"execution_count": null,
"metadata": {
"collapsed": false
},
"outputs": [],
"source": ["## -----------------------------------------------------------------\n", "## vary number of features used\n", "## -----------------------------------------------------------------\n", "nFeatures = c(1, 2, 5, 10, 20, 50, 100, 200, 500,\n", "        1000, 2000, 5000, 10000)\n", "names(nFeatures) = as.character(nFeatures)\n", "fitKnnWithNFeat = function(n, setname, fold=5, seed=123) {\n", "    if (n > ncol(xnorms[[setname]])) {\n", "        return(NA)\n", "    }\n", "    fsKnnFitter = SolderedPipeFitter(\n", "        FastTSelector(nFeat = n),\n", "        KnnFitter(k = 3)\n", "    )\n", "    fit = train(\n", "        fsKnnFitter,\n", "        xnorms[[setname]],\n", "        ys[[setname]],\n", "        trControl = trainControl(\n", "            method = \"cv\",\n", "            number = fold,\n", "            seeds = as.list(rep(seed, times=fold+1))\n", "        )\n", "    )\n", "    return(fit$results$Accuracy)\n", "}"]
},
{
"cell_type": "code",
"execution_count": null,
"metadata": {
"collapsed": false
},
"outputs": [],
"source": ["## xnames = names(xnorms)\n", "## names(xnames) = xnames\n", "## accsByNFeats = lapply(\n", "##     X = xnames,\n", "##     FUN = function(s) {\n", "##         lapply(nFeatures, fitKnnWithNFeat, setname=s)\n", "##     }\n", "## )\n", "## accsByNFeats = unlist(accsByNFeats)"]
},
{
"cell_type": "code",
"execution_count": null,
"metadata": {
"collapsed": false
},
"outputs": [],
"source": ["## ggdata = data.frame(acc=accsByNFeats, row.names=names(accsByNFeats))\n", "## ggdata$set = factor(gsub(\"\\\\..*\", \"\",  names(accsByNFeats)),\n", "##         levels=names(xnorms))\n", "## ggdata$p = as.integer(gsub(\".*\\\\.\", \"\", names(accsByNFeats)))\n", "## write.table(\n", "##     ggdata,\n", "##     file = \"KnnRealAccuracyByNFeat_R.tsv\",\n", "##     sep = \"\\t\",\n", "##     quote = FALSE,\n", "##     row.names = FALSE\n", "## )"]
},
{
"cell_type": "code",
"execution_count": null,
"metadata": {
"collapsed": false
},
"outputs": [],
"source": ["ggdata = read.table(\n", "    \"KnnRealAccuracyByNFeat_R.tsv\",\n", "    sep = \"\\t\",\n", "    row.names = NULL,\n", "    header = TRUE\n", ")"]
},
{
"cell_type": "code",
"execution_count": null,
"metadata": {
"collapsed": false
},
"outputs": [],
"source": ["ggdata$set = factor(as.character(ggdata$set), levels=names(xnorms))\n", "ggobj = ggplot(data=ggdata, mapping=aes(x=p, y=acc, color=set))\n", "ggobj = ggobj + geom_point()\n", "ggobj = ggobj + geom_line(alpha=0.5)\n", "ggobj = ggobj + scale_x_log10(breaks=c(10, 100, 1000, 10000))\n", "ggobj = ggobj + theme_classic()\n", "ggobj = ggobj + scale_color_manual(\n", "        values=c(\"darkgray\", \"black\", \"red\", \"dodgerblue3\"))\n", "ggobj = ggobj + ylab(\"Accuracy (5-fold CV)\")\n", "## pdf(\"KnnRealAccuracyByNFeat.pdf\", h=5, w=5*1.325)\n", "print(ggobj)\n", "## garbage = dev.off()"]
},
{
"cell_type": "code",
"execution_count": null,
"metadata": {
"collapsed": false
},
"outputs": [],
"source": ["## -----------------------------------------------------------------\n", "## use PCA feature extraction\n", "## -----------------------------------------------------------------\n", "feKnnFitter = SolderedPipeFitter(\n", "    PcaExtractor(k = 3),\n", "    KnnFitter(k = 3)\n", ")"]
},
{
"cell_type": "code",
"execution_count": null,
"metadata": {
"collapsed": false
},
"outputs": [],
"source": ["## feKnnFits = mapply(\n", "##     FUN = train,\n", "##     lapply(1:length(xnorms), function(...) {feKnnFitter}),\n", "##     xnorms,\n", "##     ys,\n", "##     MoreArgs = list(\n", "##         trControl = trainControl(\n", "##             method = \"cv\",\n", "##             number = 5,\n", "##             seeds = as.list(rep(123, 6))\n", "##         )\n", "##     ),\n", "##     SIMPLIFY = FALSE\n", "## )\n", "## save(feKnnFits, file=\"feKnnFits.RData\")\n", "load(\"feKnnFits.RData\")"]
},
{
"cell_type": "code",
"execution_count": null,
"metadata": {
"collapsed": false
},
"outputs": [],
"source": ["## -----------------------------------------------------------------\n", "## test with varying number of principal components\n", "## -----------------------------------------------------------------\n", "npcs = c(1, 2, 5, 10, 20, 50, 100, 200)\n", "names(npcs) = as.character(npcs)\n", "fitKnnWithNPcs = function(n, setname, fold=5, seed=123) {\n", "    if (n > floor((1-1/fold)*min(dim(xnorms[[setname]])))) {\n", "        return(NA)\n", "    }\n", "    feKnnFitter = SolderedPipeFitter(\n", "        PcaExtractor(k = n),\n", "        KnnFitter(k = 3)\n", "    )\n", "    fit = train(\n", "        feKnnFitter,\n", "        xnorms[[setname]],\n", "        ys[[setname]],\n", "        trControl = trainControl(\n", "            method = \"cv\",\n", "            number = fold,\n", "            seeds = as.list(rep(seed, times=fold+1))\n", "        )\n", "    )\n", "    return(fit$results$Accuracy)\n", "}"]
},
{
"cell_type": "code",
"execution_count": null,
"metadata": {
"collapsed": false
},
"outputs": [],
"source": ["## xnames = names(xnorms)\n", "## names(xnames) = xnames\n", "## accsByNPcs = lapply(\n", "##     X = xnames,\n", "##     FUN = function(s) {\n", "##         lapply(npcs, fitKnnWithNPcs, setname=s)\n", "##     }\n", "## )\n", "## accsByNPcs = unlist(accsByNPcs)"]
},
{
"cell_type": "code",
"execution_count": null,
"metadata": {
"collapsed": false
},
"outputs": [],
"source": ["## ggdata = data.frame(acc=accsByNPcs, row.names=names(accsByNPcs))\n", "## ggdata$set = factor(gsub(\"\\\\..*\", \"\",  names(accsByNPcs)),\n", "##         levels=names(xnorms))\n", "## ggdata$p = as.integer(gsub(\".*\\\\.\", \"\", names(accsByNPcs)))\n", "## write.table(\n", "##     ggdata,\n", "##     file = \"KnnRealAccuracyByNPcs_R.tsv\",\n", "##     sep = \"\\t\",\n", "##     quote = FALSE,\n", "##     row.names = FALSE\n", "## )"]
},
{
"cell_type": "code",
"execution_count": null,
"metadata": {
"collapsed": false
},
"outputs": [],
"source": ["ggdata = read.table(\n", "    \"KnnRealAccuracyByNPcs_R.tsv\",\n", "    sep = \"\\t\",\n", "    row.names = NULL,\n", "    header = TRUE\n", ")"]
},
{
"cell_type": "code",
"execution_count": null,
"metadata": {
"collapsed": false
},
"outputs": [],
"source": ["ggdata$set = factor(as.character(ggdata$set), levels=names(xnorms))\n", "ggobj = ggplot(data=ggdata, mapping=aes(x=p, y=acc, color=set))\n", "ggobj = ggobj + geom_point()\n", "ggobj = ggobj + geom_line(alpha=0.5)\n", "ggobj = ggobj + scale_x_log10(breaks=c(10, 100, 1000, 10000))\n", "ggobj = ggobj + theme_classic()\n", "ggobj = ggobj + scale_color_manual(\n", "        values=c(\"darkgray\", \"black\", \"red\", \"dodgerblue3\"))\n", "ggobj = ggobj + ylab(\"Accuracy (5-fold CV)\")\n", "## pdf(\"KnnRealAccuracyByNPcs.pdf\", h=5, w=5*1.325)\n", "print(ggobj)\n", "## garbage = dev.off()"]
}
 ],
 "metadata": {
  "kernelspec": {
   "display_name": "R",
   "language": "R",
   "name": "ir"
  },
  "language_info": {
   "codemirror_mode": "r",
   "file_extension": ".r",
   "mimetype": "text/x-r-source",
   "name": "R",
   "pygments_lexer": "r",
   "version": "3.2.3"
  }
 },
 "nbformat": 4,
 "nbformat_minor": 1
}

