{
 "cells": [
{
"cell_type": "code",
"execution_count": null,
"metadata": {
"collapsed": false
},
"outputs": [],
"source": ["import matplotlib.pyplot as plt"]
},
{
"cell_type": "code",
"execution_count": null,
"metadata": {
"collapsed": false
},
"outputs": [],
"source": ["import MaclearnUtilities\n", "from MaclearnUtilities import safeFactorize, ggpca"]
},
{
"cell_type": "code",
"execution_count": null,
"metadata": {
"collapsed": false
},
"outputs": [],
"source": ["plt.ion()"]
},
{
"cell_type": "code",
"execution_count": null,
"metadata": {
"collapsed": false
},
"outputs": [],
"source": ["import RestrictedData\n", "xnorms = RestrictedData.xnorms\n", "annots = RestrictedData.annots\n", "ys = RestrictedData.ys"]
},
{
"cell_type": "code",
"execution_count": null,
"metadata": {
"collapsed": false
},
"outputs": [],
"source": ["## -----------------------------------------------------------------\n", "plt.close()\n", "ggpca(xnorms['shen'], annots['shen']['System'],\n", "      rlab=True,\n", "      cshow=0, colscale=['firebrick', 'goldenrod', 'lightseagreen',\n", "                          'darkorchid', 'darkslategray', 'dodgerblue'])"]
},
{
"cell_type": "code",
"execution_count": null,
"metadata": {
"collapsed": false
},
"outputs": [],
"source": ["plt.close()\n", "ggpca(xnorms['shen'], annots['shen']['System'],\n", "      rlab=True, clab=True,\n", "      cshow=25, clightalpha=0.1,\n", "      colscale=['firebrick', 'goldenrod', 'lightseagreen',\n", "                'darkorchid', 'darkslategray', 'dodgerblue', 'gray'])"]
},
{
"cell_type": "code",
"execution_count": null,
"metadata": {
"collapsed": false
},
"outputs": [],
"source": ["plt.close()\n", "ggpca(xnorms['patel'], ys['patel'],\n", "      rlab=False, clab=True, cshow=10, clightalpha=0)"]
}
 ],
 "metadata": {
  "kernelspec": {
   "display_name": "Python 3",
   "language": "python",
   "name": "python3"
  },
  "language_info": {
   "codemirror_mode": {
    "name": "ipython",
    "version": 3
   },
   "file_extension": ".py",
   "mimetype": "text/x-python",
   "name": "python",
   "nbconvert_exporter": "python",
   "pygments_lexer": "ipython3",
   "version": "3.4.3"
  }
 },
 "nbformat": 4,
 "nbformat_minor": 1
}

