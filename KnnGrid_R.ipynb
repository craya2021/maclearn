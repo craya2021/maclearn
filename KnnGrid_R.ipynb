{
 "cells": [
{
"cell_type": "code",
"execution_count": null,
"metadata": {
"collapsed": false
},
"outputs": [],
"source": ["library(caret)\n", "library(class)\n", "library(ggplot2)"]
},
{
"cell_type": "code",
"execution_count": null,
"metadata": {
"collapsed": false
},
"outputs": [],
"source": ["source(\"modelpipe.R\")"]
},
{
"cell_type": "code",
"execution_count": null,
"metadata": {
"collapsed": false
},
"outputs": [],
"source": ["## source(\"LoadData.R\")\n", "## source(\"NormalizeData.R\")\n", "## source(\"RestrictData.R\")\n", "## source(\"ExtractYs.R\")\n", "load(\"prepared_datasets.RData\")"]
},
{
"cell_type": "code",
"execution_count": null,
"metadata": {
"collapsed": false
},
"outputs": [],
"source": ["## Note that caret has some nice built-in capabilities\n", "## for tuning model parameters over a grid of potential values...\n", "## Not using them here both for more explicit illustration\n", "## and b/c I haven't yet made SolderedPipeFitter\n", "## objects compatible with these capabilities."]
},
{
"cell_type": "code",
"execution_count": null,
"metadata": {
"collapsed": false
},
"outputs": [],
"source": ["fsKnnFitterGenerator = function(k) {\n", "    return(SolderedPipeFitter(\n", "        FastTSelector(nFeat = 10),\n", "        KnnFitter(k = k)\n", "    ))\n", "}"]
},
{
"cell_type": "code",
"execution_count": null,
"metadata": {
"collapsed": false
},
"outputs": [],
"source": ["setnames = names(xnorms)\n", "names(setnames) = setnames\n", "ks = c(3, 5, 9, 15)\n", "names(ks) = as.character(ks)"]
},
{
"cell_type": "code",
"execution_count": null,
"metadata": {
"collapsed": false
},
"outputs": [],
"source": ["## lapply below takes a while to run!\n", "knnModels = lapply(\n", "    X = setnames,\n", "    FUN = function(setname) {\n", "        return(lapply(\n", "            X = ks,\n", "            FUN = function(k) {\n", "                return(train(\n", "                    fsKnnFitterGenerator(k),\n", "                    xnorms[[setname]],\n", "                    ys[[setname]],\n", "                    trControl = trainControl(\n", "                        method = \"cv\",\n", "                        number = 5,\n", "                        seeds = as.list(rep(123, 6))\n", "                    )\n", "                ))\n", "            }\n", "        ))\n", "    }\n", ")\n", "## ## save(knnModels, file=\"knnGridModels.RData\")\n", "## load(\"knnGridModels.RData\")"]
},
{
"cell_type": "code",
"execution_count": null,
"metadata": {
"collapsed": false
},
"outputs": [],
"source": ["knnCvAccs = sapply(knnModels, function(kmods) {\n", "    sapply(kmods, function(kmod) {kmod$results$Accuracy})\n", "})"]
}
 ],
 "metadata": {
  "kernelspec": {
   "display_name": "R",
   "language": "R",
   "name": "ir"
  },
  "language_info": {
   "codemirror_mode": "r",
   "file_extension": ".r",
   "mimetype": "text/x-r-source",
   "name": "R",
   "pygments_lexer": "r",
   "version": "3.2.3"
  }
 },
 "nbformat": 4,
 "nbformat_minor": 1
}

