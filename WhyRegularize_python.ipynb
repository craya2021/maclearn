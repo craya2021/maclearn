{
 "cells": [
{
"cell_type": "code",
"execution_count": null,
"metadata": {
"collapsed": false
},
"outputs": [],
"source": ["from collections import OrderedDict\n", "import copy\n", "import numpy as np\n", "import pandas as pd\n", "from pandas import DataFrame, Series\n", "import scipy\n", "import sklearn as sk\n", "import sklearn.model_selection as model_selection\n", "from sklearn.model_selection import ShuffleSplit\n", "import sklearn.feature_selection as feature_selection\n", "import sklearn.linear_model as linear_model\n", "import sklearn.pipeline as pipeline"]
},
{
"cell_type": "code",
"execution_count": null,
"metadata": {
"collapsed": false
},
"outputs": [],
"source": ["import MaclearnUtilities\n", "from MaclearnUtilities import bhfdr, colcor"]
},
{
"cell_type": "code",
"execution_count": null,
"metadata": {
"collapsed": false
},
"outputs": [],
"source": ["def pandaize(f):\n", "    def pandaized(estimator, X, y, **kwargs):\n", "        return f(estimator, np.array(X), y, **kwargs)\n", "    return pandaized"]
},
{
"cell_type": "code",
"execution_count": null,
"metadata": {
"collapsed": false
},
"outputs": [],
"source": ["@pandaize\n", "def cross_val_score_pd(estimator, X, y, **kwargs):\n", "    return model_selection.cross_val_score(estimator, X, y, **kwargs)"]
},
{
"cell_type": "code",
"execution_count": null,
"metadata": {
"collapsed": false
},
"outputs": [],
"source": ["## -----------------------------------------------------------------\n", "## linear regression simulated example\n", "## -----------------------------------------------------------------\n", "x = np.random.randn(15, 4)\n", "x[:, 1] = x[:, 0] + 0.01 * x[:, 1]"]
},
{
"cell_type": "code",
"execution_count": null,
"metadata": {
"collapsed": false
},
"outputs": [],
"source": ["y = x[:, 3] + np.random.randn(15)"]
},
{
"cell_type": "code",
"execution_count": null,
"metadata": {
"collapsed": false
},
"outputs": [],
"source": ["linmod = linear_model.LinearRegression().fit(x, y)\n", "linmod.coef_"]
},
{
"cell_type": "code",
"execution_count": null,
"metadata": {
"collapsed": false
},
"outputs": [],
"source": ["l2mod = linear_model.Ridge(alpha=15*0.1).fit(x, y)\n", "l2mod.coef_"]
},
{
"cell_type": "code",
"execution_count": null,
"metadata": {
"collapsed": false
},
"outputs": [],
"source": ["l1mod = linear_model.Lasso(alpha=0.1).fit(x, y)\n", "l1mod.coef_"]
},
{
"cell_type": "code",
"execution_count": null,
"metadata": {
"collapsed": false
},
"outputs": [],
"source": ["## -----------------------------------------------------------------\n", "## load Hess data\n", "## -----------------------------------------------------------------\n", "def readTab(file):\n", "    return pd.read_csv(file, sep=\"\\t\", header=0, index_col=0)"]
},
{
"cell_type": "code",
"execution_count": null,
"metadata": {
"collapsed": false
},
"outputs": [],
"source": ["x = readTab(\"microarray/Hess/HessTrainingData.tsv.gz\").transpose()\n", "annot = readTab(\"microarray/Hess/HessTrainingAnnotation.tsv\")\n", "y = MaclearnUtilities.safeFactorize(annot.pCRtxt)"]
},
{
"cell_type": "code",
"execution_count": null,
"metadata": {
"collapsed": false
},
"outputs": [],
"source": ["logisticFitter = pipeline.Pipeline([\n", "    ('featsel', feature_selection.SelectKBest(\n", "            feature_selection.f_regression, k=4)),\n", "    ('classifier', linear_model.LogisticRegression(C=1e15))\n", "])\n", "logisticFit = copy.deepcopy(logisticFitter).fit(x, y)\n", "logisticCoef = logisticFit.get_params()['classifier'].coef_"]
},
{
"cell_type": "code",
"execution_count": null,
"metadata": {
"collapsed": false
},
"outputs": [],
"source": ["## -----------------------------------------------------------------\n", "## regularized models\n", "## -----------------------------------------------------------------\n", "l2Fitter = pipeline.Pipeline([\n", "    ('featsel', feature_selection.SelectKBest(\n", "            feature_selection.f_regression, k=4)),\n", "    ('classifier', linear_model.LogisticRegression(\n", "            C=20.0/len(y), penalty=\"l2\", intercept_scaling=100))\n", "])\n", "l2Fit = copy.deepcopy(l2Fitter).fit(x, y)\n", "l2Coef = l2Fit.get_params()['classifier'].coef_"]
},
{
"cell_type": "code",
"execution_count": null,
"metadata": {
"collapsed": false
},
"outputs": [],
"source": ["l1Fitter = pipeline.Pipeline([\n", "    ('featsel', feature_selection.SelectKBest(\n", "            feature_selection.f_regression, k=4)),\n", "    ('classifier', linear_model.LogisticRegression(\n", "            C=20.0/len(y), penalty=\"l1\", intercept_scaling=100))\n", "])\n", "l1Fit = copy.deepcopy(l1Fitter).fit(x, y)\n", "l1Coef = l1Fit.get_params()['classifier'].coef_"]
},
{
"cell_type": "code",
"execution_count": null,
"metadata": {
"collapsed": false
},
"outputs": [],
"source": ["## -----------------------------------------------------------------\n", "##\n", "## -----------------------------------------------------------------\n", "cvSchedule = ShuffleSplit(n_splits=5, test_size=0.2, random_state=123)"]
},
{
"cell_type": "code",
"execution_count": null,
"metadata": {
"collapsed": false
},
"outputs": [],
"source": ["cvLogisticAcc = np.mean(cross_val_score_pd(estimator = logisticFitter,\n", "                                           X = x,\n", "                                           y = y,\n", "                                           cv = cvSchedule.split(x)))\n", "cvLogisticAcc"]
},
{
"cell_type": "code",
"execution_count": null,
"metadata": {
"collapsed": false
},
"outputs": [],
"source": ["cvL1Acc = np.mean(cross_val_score_pd(estimator = l1Fitter,\n", "                                     X = x,\n", "                                     y = y,\n", "                                     cv = cvSchedule.split(x)))\n", "cvL1Acc"]
},
{
"cell_type": "code",
"execution_count": null,
"metadata": {
"collapsed": false
},
"outputs": [],
"source": ["cvL2Acc = np.mean(cross_val_score_pd(estimator = l2Fitter,\n", "                                     X = x,\n", "                                     y = y,\n", "                                     cv = cvSchedule.split(x)))\n", "cvL2Acc"]
}
 ],
 "metadata": {
  "kernelspec": {
   "display_name": "Python 3",
   "language": "python",
   "name": "python3"
  },
  "language_info": {
   "codemirror_mode": {
    "name": "ipython",
    "version": 3
   },
   "file_extension": ".py",
   "mimetype": "text/x-python",
   "name": "python",
   "nbconvert_exporter": "python",
   "pygments_lexer": "ipython3",
   "version": "3.4.3"
  }
 },
 "nbformat": 4,
 "nbformat_minor": 1
}

