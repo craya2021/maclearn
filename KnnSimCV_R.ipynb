{
 "cells": [
{
"cell_type": "code",
"execution_count": null,
"metadata": {
"collapsed": false
},
"outputs": [],
"source": ["library(caret)\n", "library(class)\n", "library(ggplot2)"]
},
{
"cell_type": "code",
"execution_count": null,
"metadata": {
"collapsed": false
},
"outputs": [],
"source": ["source(\"SimData.R\")"]
},
{
"cell_type": "code",
"execution_count": null,
"metadata": {
"collapsed": false
},
"outputs": [],
"source": ["x2_train = simulate2Group(n=100, p=2, effect=rep(1.25, 2))\n", "nFold = 5\n", "knnCV = train(\n", "    x = x2_train$x,\n", "    y = x2_train$y,\n", "    method = \"knn\",\n", "    tuneGrid = data.frame(k=3),\n", "    trControl = trainControl(method=\"cv\", number=nFold)\n", ")\n", "knnCV$results"]
},
{
"cell_type": "code",
"execution_count": null,
"metadata": {
"collapsed": false
},
"outputs": [],
"source": ["x2_test = simulate2Group(n=100, p=2, effect=rep(1.25, 2))\n", "knnTest = predict(knnCV, x2_test$x)\n", "sum(diag(table(knnTest, x2_test$y))) / sum(table(knnTest, x2_test$y))"]
},
{
"cell_type": "code",
"execution_count": null,
"metadata": {
"collapsed": false
},
"outputs": [],
"source": ["parGrid = expand.grid(\n", "    n = 100,\n", "    p = c(2, 5, 10, 25, 100, 500),\n", "    k = c(3, 5, 10, 25)\n", ")\n", "parGrid$effect = rep(2.5 / sqrt(parGrid$p))\n", "rownames(parGrid) = paste0(\"p\", parGrid$p, \"_k\", parGrid$k)"]
},
{
"cell_type": "code",
"execution_count": null,
"metadata": {
"collapsed": false
},
"outputs": [],
"source": ["knnSimulate = function(param, nFold=5) {\n", "    param = as.list(param)\n", "    trainSet = simulate2Group(n=param$n, p=param$p,\n", "                              effect=rep(param$effect, param$p))\n", "    testSet = simulate2Group(n=param$n, p=param$p,\n", "                             effect=rep(param$effect, param$p))\n", "    knnCaretControl = trainControl(method=\"cv\", number=nFold)\n", "    knnCV = train(\n", "        x = trainSet$x,\n", "        y = trainSet$y,\n", "        method = \"knn\",\n", "        tuneGrid = data.frame(k=param$k),\n", "        trControl = trainControl(method=\"cv\", number=nFold)\n", "    )\n", "    out = list(\n", "        p = param$p,\n", "        k = param$k,\n", "        train = trainSet,\n", "        test = testSet,\n", "        testPreds = predict(knnCV, testSet$x),\n", "        testProbs = predict(knnCV, testSet$x, type=\"prob\")[ , 2]\n", "    )\n", "    out$cvAccuracy = knnCV$results[ , \"Accuracy\"]\n", "    out$testTable = table(\n", "        Predicted = out$testPreds,\n", "        Actual = testSet$y\n", "    )\n", "    out$testAccuracy = sum(diag(out$testTable)) /\n", "                       sum(out$testTable)\n", "    return(out)\n", "}"]
},
{
"cell_type": "code",
"execution_count": null,
"metadata": {
"collapsed": false
},
"outputs": [],
"source": ["set.seed(123)\n", "repeatedKnnResults = lapply(X=1:5, FUN=function(...) {\n", "    apply(X=parGrid, MARGIN=1, FUN=knnSimulate)\n", "})\n", "repeatedKnnResults = do.call(c, args=repeatedKnnResults)\n", "knnResultsSimplified = data.frame(do.call(rbind, args=lapply(\n", "    X = repeatedKnnResults,\n", "    FUN = function(x) {\n", "        outColnames = c(\"p\", \"k\", \"cvAccuracy\", \"testAccuracy\")\n", "        out = x[outColnames]\n", "        return(structure(as.numeric(out), names=outColnames))\n", "    }\n", ")))"]
},
{
"cell_type": "code",
"execution_count": null,
"metadata": {
"collapsed": false
},
"outputs": [],
"source": ["ggdata = rbind(\n", "    data.frame(\n", "        p = knnResultsSimplified$p,\n", "        k = paste0(\"k=\", knnResultsSimplified$k),\n", "        type = \"cv\",\n", "        Accuracy = knnResultsSimplified$cvAccuracy\n", "    ),\n", "    data.frame(\n", "        p = knnResultsSimplified$p,\n", "        k = paste0(\"k=\", knnResultsSimplified$k),\n", "        type = \"test\",\n", "        Accuracy = knnResultsSimplified$testAccuracy\n", "    )\n", ")\n", "ggdata$k = factor(as.character(ggdata$k),\n", "                  levels = c(\"k=3\", \"k=5\", \"k=10\", \"k=25\"))"]
},
{
"cell_type": "code",
"execution_count": null,
"metadata": {
"collapsed": false
},
"outputs": [],
"source": ["ggobj = ggplot(\n", "    data = ggdata,\n", "    mapping = aes(x=p, y=Accuracy,\n", "                  color=type, group=type, linetype=type)\n", ") + theme_bw()\n", "ggobj = ggobj + scale_x_log10()\n", "ggobj = ggobj + geom_point(alpha=0.6)\n", "ggobj = ggobj + stat_smooth(method='loess', method.args=list(degree=1))\n", "ggobj = ggobj + facet_wrap(~k)\n", "## pdf(\"KnnSimCV.pdf\", h=5, w=5*1.175)\n", "print(ggobj)\n", "## garbage = dev.off()"]
}
 ],
 "metadata": {
  "kernelspec": {
   "display_name": "R",
   "language": "R",
   "name": "ir"
  },
  "language_info": {
   "codemirror_mode": "r",
   "file_extension": ".r",
   "mimetype": "text/x-r-source",
   "name": "R",
   "pygments_lexer": "r",
   "version": "3.2.3"
  }
 },
 "nbformat": 4,
 "nbformat_minor": 1
}

