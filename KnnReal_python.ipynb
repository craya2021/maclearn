{
 "cells": [
{
"cell_type": "code",
"execution_count": null,
"metadata": {
"collapsed": false
},
"outputs": [],
"source": ["from collections import OrderedDict\n", "import matplotlib.pyplot as plt\n", "import numpy as np\n", "import pandas as pd\n", "from pandas import DataFrame\n", "from pandas import Series\n", "import plotnine as gg\n", "import sklearn as sk\n", "import sklearn.model_selection as model_selection\n", "from sklearn.model_selection import ShuffleSplit\n", "import sklearn.feature_selection as feature_selection\n", "import sklearn.neighbors as neighbors\n", "import sklearn.pipeline as pipeline"]
},
{
"cell_type": "code",
"execution_count": null,
"metadata": {
"collapsed": false
},
"outputs": [],
"source": ["import warnings\n", "warnings.filterwarnings(\"ignore\")"]
},
{
"cell_type": "code",
"execution_count": null,
"metadata": {
"collapsed": false
},
"outputs": [],
"source": ["import pcaextractor\n", "import MaclearnUtilities\n", "from MaclearnUtilities import safeFactorize"]
},
{
"cell_type": "code",
"execution_count": null,
"metadata": {
"collapsed": false
},
"outputs": [],
"source": ["plt.ion()"]
},
{
"cell_type": "code",
"execution_count": null,
"metadata": {
"collapsed": false
},
"outputs": [],
"source": ["import RestrictedData\n", "xs = RestrictedData.xs\n", "xnorms = RestrictedData.xnorms\n", "annots = RestrictedData.annots\n", "ys = RestrictedData.ys\n", "ynums = RestrictedData.ynums"]
},
{
"cell_type": "code",
"execution_count": null,
"metadata": {
"collapsed": false
},
"outputs": [],
"source": ["def pandaize(f):\n", "    def pandaized(estimator, X, y, **kwargs):\n", "        return f(estimator, np.array(X), safeFactorize(y), **kwargs)\n", "    return pandaized"]
},
{
"cell_type": "code",
"execution_count": null,
"metadata": {
"collapsed": false
},
"outputs": [],
"source": ["@pandaize\n", "def cross_val_score_pd(estimator, X, y, **kwargs):\n", "    return model_selection.cross_val_score(\n", "            estimator, X, y, **kwargs)"]
},
{
"cell_type": "code",
"execution_count": null,
"metadata": {
"collapsed": false
},
"outputs": [],
"source": ["knnClass = neighbors.KNeighborsClassifier(n_neighbors=3)\n", "cvSchedules = {k : ShuffleSplit(n_splits = 5,\n", "                                test_size = 0.2,\n", "                                random_state = 123)\n", "               for k in xnorms}\n", "knnCvAccs = {k : np.mean(cross_val_score_pd(estimator = knnClass,\n", "                                            X = xnorms[k],\n", "                                            y = ys[k],\n", "                                            cv = cvSchedules[k].split(xnorms[k])))\n", "             for k in xnorms}"]
},
{
"cell_type": "code",
"execution_count": null,
"metadata": {
"collapsed": false
},
"outputs": [],
"source": ["## -----------------------------------------------------------------\n", "## try with univariate filter feature selection\n", "## -----------------------------------------------------------------\n", "fsKnnFitter = pipeline.Pipeline([\n", "    ('featsel', feature_selection.SelectKBest(\n", "            feature_selection.f_regression, k=10)),\n", "    ('classifier', neighbors.KNeighborsClassifier(\n", "            n_neighbors=3))\n", "])"]
},
{
"cell_type": "code",
"execution_count": null,
"metadata": {
"collapsed": false
},
"outputs": [],
"source": ["fsKnnCvAccs = {k : np.mean(cross_val_score_pd(estimator = fsKnnFitter,\n", "                                              X = xnorms[k],\n", "                                              y = ys[k],\n", "                                              cv = cvSchedules[k].split(xnorms[k])))\n", "               for k in xnorms}"]
},
{
"cell_type": "code",
"execution_count": null,
"metadata": {
"collapsed": false
},
"outputs": [],
"source": ["## -----------------------------------------------------------------\n", "## vary number of features used\n", "## -----------------------------------------------------------------\n", "nFeatures = [1, 2, 5, 10, 20, 50, 100, 200, 500,\n", "             1000, 2000, 5000, 10000]\n", "def fitKnnWithNFeat(n, setname, cv=None):\n", "    if cv is None:\n", "        cv = cvSchedules[setname]\n", "    if n > xnorms[setname].shape[1]:\n", "        return None\n", "    fsKnnFitter = pipeline.Pipeline([\n", "        ('featsel', feature_selection.SelectKBest(\n", "                feature_selection.f_regression, k=n)),\n", "        ('classifier', neighbors.KNeighborsClassifier(\n", "                n_neighbors=3))\n", "    ])\n", "    return np.mean(cross_val_score_pd(estimator = fsKnnFitter,\n", "                                      X = xnorms[setname],\n", "                                      y = ys[setname],\n", "                                      cv = cv.split(xnorms[setname])))"]
},
{
"cell_type": "code",
"execution_count": null,
"metadata": {
"collapsed": false
},
"outputs": [],
"source": ["accsByNFeats = OrderedDict([(s, OrderedDict([(n, fitKnnWithNFeat(n, s))\n", "                                             for n in nFeatures]))\n", "                            for s in xnorms])"]
},
{
"cell_type": "code",
"execution_count": null,
"metadata": {
"collapsed": false
},
"outputs": [],
"source": ["plotData = pd.concat([DataFrame({\"set\" : s,\n", "                                 \"p\" : p,\n", "                                 \"acc\" : accsByNFeats[s][p]},\n", "                                index = [s + \"_\" + str(p)])\n", "                      for s in accsByNFeats\n", "                      for p in accsByNFeats[s]],\n", "                     axis = 0)\n", "plotData['acc'] = plotData['acc'].astype(float)"]
},
{
"cell_type": "code",
"execution_count": null,
"metadata": {
"collapsed": false
},
"outputs": [],
"source": ["plt.close()\n", "ggo = gg.ggplot(plotData, gg.aes(x='p', y='acc', color='set'))\n", "ggo += gg.geom_line()\n", "ggo += gg.scale_x_log10()\n", "ggo += gg.theme_bw()\n", "print(ggo)"]
},
{
"cell_type": "code",
"execution_count": null,
"metadata": {
"collapsed": false
},
"outputs": [],
"source": ["# plotData.to_csv(\"KnnRealAccuracyByNFeat.tsv\",\n", "#                 sep = \"\\t\",\n", "#                 index = False,\n", "#                 header = True)"]
},
{
"cell_type": "code",
"execution_count": null,
"metadata": {
"collapsed": false
},
"outputs": [],
"source": ["## -----------------------------------------------------------------\n", "## use PCA feature extraction\n", "## -----------------------------------------------------------------\n", "feKnnFitter = pipeline.Pipeline([\n", "    ('featextr', pcaextractor.PcaExtractor(k=3)),\n", "    ('classifier', neighbors.KNeighborsClassifier(\n", "            n_neighbors=3))\n", "])"]
},
{
"cell_type": "code",
"execution_count": null,
"metadata": {
"collapsed": false
},
"outputs": [],
"source": ["xmod = feKnnFitter.fit(np.array(xnorms['patel']), np.array(ys['patel']))\n", "xcv = cross_val_score_pd(feKnnFitter, xnorms['patel'], ys['patel'],\n", "                         cv=cvSchedules['patel'].split(xnorms['patel']))"]
},
{
"cell_type": "code",
"execution_count": null,
"metadata": {
"collapsed": false
},
"outputs": [],
"source": ["feKnnCvAccs = {k : np.mean(cross_val_score_pd(estimator = feKnnFitter,\n", "                                              X = xnorms[k],\n", "                                              y = ys[k],\n", "                                              cv = cvSchedules[k].split(xnorms[k])))\n", "               for k in xnorms}"]
},
{
"cell_type": "code",
"execution_count": null,
"metadata": {
"collapsed": false
},
"outputs": [],
"source": ["## -----------------------------------------------------------------\n", "## test with varying number of principal components\n", "## -----------------------------------------------------------------\n", "npcs = [1, 2, 5, 10, 20, 50, 100, 200]\n", "def fitKnnWithNPcs(n, setname, cv=None):\n", "    if cv is None:\n", "        cv = cvSchedules[setname]\n", "    if n > min(xnorms[setname].shape):\n", "        return None\n", "    feKnnFitter = pipeline.Pipeline([\n", "        ('featextr', pcaextractor.PcaExtractor(k=n)),\n", "        ('classifier', neighbors.KNeighborsClassifier(\n", "                n_neighbors=3))\n", "    ])\n", "    return np.mean(cross_val_score_pd(estimator = feKnnFitter,\n", "                                      X = xnorms[setname],\n", "                                      y = ys[setname],\n", "                                      cv = cv.split(xnorms[setname])))"]
},
{
"cell_type": "code",
"execution_count": null,
"metadata": {
"collapsed": false
},
"outputs": [],
"source": ["accsByNPcs = OrderedDict([(s, OrderedDict([(n, fitKnnWithNPcs(n, s))\n", "                                           for n in npcs]))\n", "                            for s in xnorms])"]
},
{
"cell_type": "code",
"execution_count": null,
"metadata": {
"collapsed": false
},
"outputs": [],
"source": ["plotData = pd.concat([DataFrame({\"set\" : s,\n", "                                 \"p\" : p,\n", "                                 \"acc\" : accsByNPcs[s][p]},\n", "                                index = [s + \"_\" + str(p)])\n", "                      for s in accsByNPcs\n", "                      for p in accsByNPcs[s]],\n", "                     axis = 0)\n", "plotData['acc'] = plotData['acc'].astype(float)"]
},
{
"cell_type": "code",
"execution_count": null,
"metadata": {
"collapsed": false
},
"outputs": [],
"source": ["plt.close()\n", "ggo = gg.ggplot(plotData, gg.aes(x='p', y='acc', color='set'))\n", "ggo += gg.geom_line()\n", "ggo += gg.scale_x_log10()\n", "ggo += gg.theme_bw()\n", "print(ggo)"]
}
 ],
 "metadata": {
  "kernelspec": {
   "display_name": "Python 3",
   "language": "python",
   "name": "python3"
  },
  "language_info": {
   "codemirror_mode": {
    "name": "ipython",
    "version": 3
   },
   "file_extension": ".py",
   "mimetype": "text/x-python",
   "name": "python",
   "nbconvert_exporter": "python",
   "pygments_lexer": "ipython3",
   "version": "3.4.3"
  }
 },
 "nbformat": 4,
 "nbformat_minor": 1
}

